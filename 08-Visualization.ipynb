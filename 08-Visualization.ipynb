{
 "cells": [
  {
   "cell_type": "code",
   "execution_count": null,
   "metadata": {},
   "outputs": [],
   "source": [
    "# 시각화의 중요성\n",
    "# 데이터셋이 가진 기초 통계량만 가지고 데이터 셋을 판단하는 것은 무리가 있다.\n",
    "# 데이터 전처리 과정 중에 시각화를 통해서 실제 데이터셋의 모양을 살펴보는 것이 좋다.\n",
    "import seaborn as sns\n",
    "# 샘플 데이터셋 확인\n",
    "print(sns.get_dataset_names())"
   ]
  },
  {
   "cell_type": "code",
   "execution_count": null,
   "metadata": {},
   "outputs": [],
   "source": [
    "# anscombe 데이터셋 불러오기\n",
    "anscombe = sns.load_dataset('anscombe')\n",
    "print(type(anscombe))  # 출력값 : <class 'pandas.core.frame.DataFrame'>\n",
    "                       # DataFrame\n",
    "from IPython.display import display\n",
    "display(anscombe)"
   ]
  },
  {
   "cell_type": "code",
   "execution_count": null,
   "metadata": {},
   "outputs": [],
   "source": [
    "# 데이터셋 확인\n",
    "anscombe.head()"
   ]
  },
  {
   "cell_type": "code",
   "execution_count": null,
   "metadata": {},
   "outputs": [],
   "source": [
    "anscombe.tail()"
   ]
  },
  {
   "cell_type": "code",
   "execution_count": null,
   "metadata": {},
   "outputs": [],
   "source": [
    "anscombe.shape  # 출력값 : (44, 3)\n",
    "                # 44행 3열짜리 데이터프레임"
   ]
  },
  {
   "cell_type": "code",
   "execution_count": null,
   "metadata": {},
   "outputs": [],
   "source": [
    "# 이 자료의 데이터셋은 'dataset' 컬럼으로 구분되어 있음\n",
    "# 총 몇 개의 데이터셋이 있는가?\n",
    "anscombe['dataset'].nunique()  # dataset 컬럼의 중복 제외한 요소의 갯수\n",
    "# 출력값 : 4"
   ]
  },
  {
   "cell_type": "code",
   "execution_count": null,
   "metadata": {},
   "outputs": [],
   "source": [
    "# boolean 연산으로 데이터셋을 분할\n",
    "ds1 = anscombe[anscombe['dataset'] == 'I']\n",
    "ds2 = anscombe[anscombe['dataset'] == 'II']\n",
    "ds3 = anscombe[anscombe['dataset'] == 'III']\n",
    "ds4 = anscombe[anscombe['dataset'] == 'IV']"
   ]
  },
  {
   "cell_type": "code",
   "execution_count": null,
   "metadata": {},
   "outputs": [],
   "source": [
    "# I 데이터셋의 기초 통계량\n",
    "ds1.describe()"
   ]
  },
  {
   "cell_type": "code",
   "execution_count": null,
   "metadata": {},
   "outputs": [],
   "source": [
    "ds2.describe()\n",
    "# ds1, ds2의 기초통계량이 거의 비슷"
   ]
  },
  {
   "cell_type": "code",
   "execution_count": null,
   "metadata": {},
   "outputs": [],
   "source": [
    "# ds1의 그래프\n",
    "import matplotlib.pyplot as plt\n",
    "plt.plot(ds1['x'], ds1['y'], 'o')\n",
    "# 마커의 종류 : o(점), *(별모양), ^(삼각형모양), -(라인그래프), +(+모양)\n",
    "\n",
    "# 점그래프, 선그래프는 plot 함수로 그린다."
   ]
  },
  {
   "cell_type": "code",
   "execution_count": null,
   "metadata": {},
   "outputs": [],
   "source": [
    "# ds2를 시각화\n",
    "plt.plot(ds2['x'], ds2['y'], '*')"
   ]
  },
  {
   "cell_type": "code",
   "execution_count": null,
   "metadata": {},
   "outputs": [],
   "source": [
    "# anscombe의 4분할 그래프\n",
    "# 기본 틀 생성 : figure\n",
    "fig =  plt.figure()\n",
    "# 기본 틀에 격자 추가 : add_subplot\n",
    "axe1 = fig.add_subplot(2, 2, 1)  # 2 * 2 격자 중 1번째 위치\n",
    "axe2 = fig.add_subplot(2, 2, 2)\n",
    "axe3 = fig.add_subplot(2, 2, 3)\n",
    "axe4 = fig.add_subplot(2, 2, 4)\n",
    "\n",
    "# 서브 플롯에 플롯 그리기\n",
    "axe1.plot(ds1['x'], ds1['y'], 'o')\n",
    "axe2.plot(ds2['x'], ds2['y'], '+', color=\"orange\")\n",
    "axe3.plot(ds3['x'], ds3['y'], '*', color=\"green\")\n",
    "axe4.plot(ds4['x'], ds4['y'], 'o', color=\"red\")\n",
    "\n",
    "# 서브 플롯의 타이틀\n",
    "axe1.set_title(\"dataset I\")\n",
    "axe2.set_title(\"dataset II\")\n",
    "axe3.set_title(\"dataset III\")\n",
    "axe4.set_title(\"dataset IV\")\n",
    "\n",
    "# 전체 타이틀\n",
    "fig.suptitle(\"Anscombe Dataset\")\n",
    "\n",
    "# 레이아웃 조정\n",
    "fig.tight_layout()\n",
    "plt.show()\n",
    "\n",
    "# 플롯의 저장\n",
    "fig.savefig(\"./data/anscombe.png\")\n",
    "\n",
    "# 플롯 보여주기\n",
    "plt.show()"
   ]
  },
  {
   "cell_type": "code",
   "execution_count": null,
   "metadata": {},
   "outputs": [],
   "source": [
    "# scatter plot\n",
    "# mtcars 데이터셋\n",
    "import pandas as pd\n",
    "mtcars = pd.read_csv(\"./data/mtcars.csv\")\n",
    "\n",
    "# 형태 확인\n",
    "print(mtcars.shape)  # 32행 12열\n",
    "print(mtcars.head())\n",
    "print(mtcars.tail())\n",
    "\n",
    "# 기초 통계량 확인\n",
    "mtcars.describe()"
   ]
  },
  {
   "cell_type": "code",
   "execution_count": null,
   "metadata": {},
   "outputs": [],
   "source": [
    "# 연비(mpg), 중량(wt)으로 산점도 그리기\n",
    "scatter_fig = plt.figure()\n",
    "scatter_axe = scatter_fig.add_subplot(1, 1, 1)\n",
    "# 산점도 그리기\n",
    "scatter_axe.scatter(mtcars['wt'], mtcars['mpg'])  # x -> 중량, y -> 연비\n",
    "scatter_axe.set_title(\"mtcars wt vs mpg\")\n",
    "scatter_axe.set_xlabel(\"Weight\")\n",
    "scatter_axe.set_ylabel(\"Miles per Gallon\")\n",
    "plt.show()"
   ]
  },
  {
   "cell_type": "code",
   "execution_count": null,
   "metadata": {},
   "outputs": [],
   "source": [
    "# 상관계수\n",
    "mtcars.corr()  # 상관계수표\n",
    "# mpg, wt의 상관계수 : -0.867659\n",
    "# 중량이 증가 -> 연비 감소\n",
    "\n",
    "# 중량과 연비의 상관계수\n",
    "print(\"상관계수(wt vs mpg):\", mtcars.wt.corr(mtcars.mpg))  # 역상관 관계"
   ]
  },
  {
   "cell_type": "code",
   "execution_count": null,
   "metadata": {},
   "outputs": [],
   "source": [
    "# 상자 그림(Boxplot)\n",
    "# 한 변수의 데이터 분포를 시각화\n",
    "# mtcars의 연비 정보(mpg)\n",
    "boxplot = plt.figure()\n",
    "boxplot_axe = boxplot.add_subplot(1, 1, 1)\n",
    "boxplot_axe.boxplot([mtcars['mpg'], mtcars['wt']])\n",
    "plt.show()"
   ]
  },
  {
   "cell_type": "code",
   "execution_count": null,
   "metadata": {},
   "outputs": [],
   "source": [
    "# 분위수 확인\n",
    "quart = mtcars.quantile([0.25, 0.50, 0.75])  # 25%, 50%, 75%\n",
    "\n",
    "first_quartile = mtcars['mpg'].quantile(0.25)  # mpg의 제 1사분위수\n",
    "third_quartile = mtcars['mpg'].quantile(0.75)  # mpg의 제 3사분위수\n",
    "\n",
    "print(\"mpg의 1사분위수={}, 3사분위수={}\".format(first_quartile, third_quartile))\n",
    "# IQR(Inter Quartile Range) : 3사분위수 - 1사분위수\n",
    "iqr = third_quartile - first_quartile\n",
    "print(\"mpg의 IQR:\", iqr)"
   ]
  },
  {
   "cell_type": "code",
   "execution_count": null,
   "metadata": {},
   "outputs": [],
   "source": [
    "# 중앙값과 IQR을 이용, 극단치 구하기\n",
    "# 상단 극단치 경계 : Q3(3사분위값) + 1.5 * IQR\n",
    "# 하단 극단치 경계 : Q1(1사분위값) - 1.4 * IQR\n",
    "top_border = third_quartile + 1.5 * iqr\n",
    "bottom_border = first_quartile - 1.5 * iqr\n",
    "print(\"상단 극단치 경계:\", top_border)\n",
    "print(\"하단 극단치 경계:\", bottom_border)"
   ]
  },
  {
   "cell_type": "code",
   "execution_count": null,
   "metadata": {},
   "outputs": [],
   "source": [
    "# 상단 극단치 경계를 넘는 자동차 추출\n",
    "mpg_outlier = mtcars[mtcars['mpg'] > top_border] # boolean 추출\n",
    "mpg_outlier"
   ]
  },
  {
   "cell_type": "code",
   "execution_count": null,
   "metadata": {},
   "outputs": [],
   "source": [
    "# 히스토그램\n",
    "# 단일 변수의 데이터 분포를 구간으로 확인\n",
    "ws_df = pd.read_csv(\"./data/wstudents.csv\")\n",
    "ws_df.head()"
   ]
  },
  {
   "cell_type": "code",
   "execution_count": null,
   "metadata": {},
   "outputs": [],
   "source": [
    "# hist 함수\n",
    "fig = plt.figure()\n",
    "height_axe = fig.add_subplot(1, 1, 1)\n",
    "\n",
    "# 반도 구간의 정의\n",
    "bins = height_axe.hist(ws_df[\"height\"],\n",
    "                      rwidth = 0.88,  # 바 너비\n",
    "                      bins = range(140, 175, 5))  # 140 ~ 170사이를 5 간격으로 분할\n",
    "print(bins)\n",
    "\n",
    "print(\"빈도 구간:\", bins[1])\n",
    "print(\"도수 빈도표:\", bins[0])\n",
    "\n",
    "height_axe.set_xlabel(\"Height\")\n",
    "height_axe.set_ylabel(\"Frequency\")\n",
    "plt.show()"
   ]
  },
  {
   "cell_type": "code",
   "execution_count": null,
   "metadata": {},
   "outputs": [],
   "source": [
    "# 파이 차트 : pie\n",
    "# 전체 중의 비율을 시각화\n",
    "labels = [\"A\", \"B\", \"C\", \"D\", \"F\"]\n",
    "data = [4, 12, 11, 3, 1]\n",
    "\n",
    "fig = plt.figure()\n",
    "pie_axe = fig.add_subplot(1, 1, 1)\n",
    "\n",
    "# pie_axe.pie(data)\n",
    "pie_axe.pie(data,                      # 파이차트에 표시할 데이터 목록(리스트)\n",
    "           labels=labels,              # 데이터의 라벨\n",
    "            autopct=\"%.3f%%\",          # 데이터의 비율 표시\n",
    "            startangle=90,             # 시작 각도\n",
    "            explode=(0.2, 0, 0, 0, 0), # 항목별 돌출 정도(강조할 때 사용)\n",
    "            shadow=True,              # 그림자 표시\n",
    "            colors=[\"red\", \"lightblue\", \"green\", \"yellow\", \"gray\"]\n",
    "           )\n",
    "\n",
    "plt.show()"
   ]
  },
  {
   "cell_type": "code",
   "execution_count": null,
   "metadata": {},
   "outputs": [],
   "source": [
    "# plt 초기화 : plt.clf() // clear a figure"
   ]
  }
 ],
 "metadata": {
  "kernelspec": {
   "display_name": "Python 3",
   "language": "python",
   "name": "python3"
  },
  "language_info": {
   "codemirror_mode": {
    "name": "ipython",
    "version": 3
   },
   "file_extension": ".py",
   "mimetype": "text/x-python",
   "name": "python",
   "nbconvert_exporter": "python",
   "pygments_lexer": "ipython3",
   "version": "3.7.3"
  }
 },
 "nbformat": 4,
 "nbformat_minor": 4
}
