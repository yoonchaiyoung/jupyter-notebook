{
 "cells": [
  {
   "cell_type": "markdown",
   "metadata": {},
   "source": [
    "# BeautifulSoup을 이용한 HTML 문서의 파싱\n",
    "- BeautifulSoup을 이용한 텍스트 html을 DOM Tree 형태로 변환해준다."
   ]
  },
  {
   "cell_type": "code",
   "execution_count": null,
   "metadata": {},
   "outputs": [],
   "source": [
    "from bs4 import BeautifulSoup  # 모듈 로드"
   ]
  },
  {
   "cell_type": "code",
   "execution_count": null,
   "metadata": {},
   "outputs": [],
   "source": [
    "# 샘플 html로드\n",
    "with open(\"./data/sample.html\") as f:\n",
    "    html_str = f.read()\n",
    "print(html_str)"
   ]
  },
  {
   "cell_type": "code",
   "execution_count": null,
   "metadata": {},
   "outputs": [],
   "source": [
    "soup = BeautifulSoup(html_str)  # DOM Tree 형태로 변환\n",
    "print(type(soup))\n",
    "# 타이틀 태그의 확인\n",
    "title_tag = soup.title\n",
    "print(\"타이틀 태그:\", title_tag, type(title_tag))\n",
    "print(\"태그의 이름:\", title_tag.name)\n",
    "print(\"태그의 내용:\", title_tag.text)"
   ]
  },
  {
   "cell_type": "code",
   "execution_count": null,
   "metadata": {},
   "outputs": [],
   "source": [
    "# html의 최상위 노드는 html\n",
    "html_tag = soup.html\n",
    "print(\"html tag:\", html_tag.name)\n",
    "# html 노드의 자식 : children\n",
    "children = html_tag.children\n",
    "print(\"html의 children:\", children)\n",
    "\n",
    "from bs4.element import Tag\n",
    "\n",
    "# 자식 노드의 순회\n",
    "for child in children:\n",
    "    # NavigableString은 Tree 구조를 구성하기 위한 특수 구분기호\n",
    "    # Tag : 실제 우리가 파싱하기 위한 내용\n",
    "    if isinstance(child, Tag):  # Tag만 필터링\n",
    "        print(\"child:\", child.name)\n",
    "\n",
    "# body 태그는 여러 개의 자손들을 가지고 있을 것\n",
    "for node in soup.body.descendants:\n",
    "    if isinstance(node, Tag):\n",
    "        print(\"body의 자손 노드:\", node.name)\n",
    "\n",
    "# 부모 노드의 확인\n",
    "print(soup.body.parent == soup.html)"
   ]
  },
  {
   "cell_type": "code",
   "execution_count": null,
   "metadata": {},
   "outputs": [],
   "source": [
    "# 검색 : find\n",
    "# 문서 내 div 태그를 찾아봅시다.\n",
    "# divs = soup.body.find(\"div\")   # find : 1개 검색\n",
    "divs = soup.body.findAll(\"div\")  # findAll : 매칭되는 모든 요소 검색\n",
    "# print(divs)\n",
    "print(\"html 내에 {}개의 div가 있습니다.\".format(len(divs)))"
   ]
  },
  {
   "cell_type": "code",
   "execution_count": null,
   "metadata": {},
   "outputs": [],
   "source": [
    "# 속성을 가진 요소의 검색\n",
    "# class=list인 ul을 검색.\n",
    "# 내부의 자식노드 내용을 출력\n",
    "list_ul = soup.body.find(\"ul\", {\"class\": \"list\"})  # 속성 class=list인 ul 검색\n",
    "# print(list_ul)\n",
    "for li in list_ul.children:\n",
    "    if isinstance(li, Tag):\n",
    "        print(\"list item:\", li.text)"
   ]
  },
  {
   "cell_type": "code",
   "execution_count": null,
   "metadata": {},
   "outputs": [],
   "source": [
    "# CSS Selector를 이용하면 좀 더 편리하고 유연하게 검색할 수 있다.\n",
    "# class=list인 ul 태그의 모든 자식들을 검색\n",
    "# id 셀렉터 : #id\n",
    "# class 셀렉터 : .class\n",
    "# 자식 셀렉터 : >\n",
    "# 자손 셀렉터 : (공백)\n",
    "list_ul_children = soup.body.select(\"ul.list > li\")  # ul인데 클래스가 list, 자식들을 출력해보자.\n",
    "print(list_ul_children)"
   ]
  }
 ],
 "metadata": {
  "kernelspec": {
   "display_name": "Python 3",
   "language": "python",
   "name": "python3"
  },
  "language_info": {
   "codemirror_mode": {
    "name": "ipython",
    "version": 3
   },
   "file_extension": ".py",
   "mimetype": "text/x-python",
   "name": "python",
   "nbconvert_exporter": "python",
   "pygments_lexer": "ipython3",
   "version": "3.7.3"
  }
 },
 "nbformat": 4,
 "nbformat_minor": 4
}
