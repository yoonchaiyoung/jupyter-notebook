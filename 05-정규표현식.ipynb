{
 "cells": [
  {
   "cell_type": "markdown",
   "metadata": {},
   "source": [
    "### 정규표현식\n",
    "\n",
    "#### 사용법\n",
    "\n",
    "- 패턴 컴파일\n",
    "- 패턴 객체가 가진 메서드로 매칭, 치환 작업 수행\n",
    "- 패턴 문자열은 r 접두어를 붙인다(raw string)\n",
    "\n",
    "#### 중요 패턴 메타 문자\n",
    "- \\d : 숫자 [0-9]\n",
    "- \\D : 숫자 아님 [^0-9]\n",
    "- \\s : 화이트 스페이스 [ \\t\\n\\r\\f\\v]\n",
    "- \\S : 화이트 스페이스 아님 [^ \\t\\n\\r\\f\\v]\n",
    "- \\w : 문자 + 숫자 [A-Za-z0-9_]\n",
    "- \\W : 문자 + 숫자 아님 [^A-Za-z0-9_]\n",
    "\n",
    "- [] : 문자 1개의 패턴 (or)\n",
    "- {시작, 끝} : 길이의 제한"
   ]
  },
  {
   "cell_type": "code",
   "execution_count": null,
   "metadata": {},
   "outputs": [],
   "source": [
    "# 매칭 작업(match) : 처음부터 패턴이 일치하는지 확인\n",
    "source = \"Life is too short, you need Python\"\n",
    "\n",
    "# 방법 1. 컴파일 후 매칭\n",
    "import re\n",
    "\n",
    "p = re.compile(r\"P[a-z]+\")  # P로 시작하고 소문자가 1개 이상 있는가?\n",
    "print(p.match(source))  # 매칭되지 않음 -> None\n",
    "\n",
    "p = re.compile(r\"L[a-z]+\")  # L로 시작하고 소문자가 1개 이상 있는가?\n",
    "print(p.match(source))\n",
    "\n",
    "# 방법 2. 축약형\n",
    "print(\"MATCH: [a-z]+ ?\", re.match(r\"[a-z]+\", source))  # 매칭되지 않음\n",
    "print(\"MATCH: [A-Za-z]+ ?\", re.match(r\"[A-Za-z]+\", source))\n",
    "\n",
    "# 매칭된 내용은 gorup 메서드로 추출\n",
    "print(re.match(r\"[A-Za-z]+\", source).group())"
   ]
  },
  {
   "cell_type": "code",
   "execution_count": null,
   "metadata": {},
   "outputs": [],
   "source": [
    "# search : 문자열 전체에서 패턴 문자열과 일치하는 내용을 확인\n",
    "source = \"Hello, Python\"\n",
    "\n",
    "# 내부에서 Python 내용 찾기\n",
    "print(re.search(r\"Python\", source))\n",
    "\n",
    "# 기본적으로 정규식 패턴은 대소문자를 구분한다.\n",
    "print(re.search(r\"python\", source))                 # None\n",
    "print(re.search(r\"python\", source, re.IGNORECASE))  # 대소문자 구별 무효화\n",
    "\n",
    "source = \"Paing C JavaScript 123 Per ! Java Python Ruby\"\n",
    "# p로 시작하고 뒤에 소문자가 붙은 단어를 추출\n",
    "\n",
    "# findall의 사용법 : 매칭된 문자열을 리스트로 반환\n",
    "words = re.findall(r\"\\bp\\w+\", source, re.IGNORECASE)\n",
    "print(words)\n",
    "\n",
    "# finditer : iterator 반환\n",
    "it = re.finditer(r\"\\bp\\w+\", source, re.IGNORECASE)\n",
    "print(it)  # 출력값 : <callable_iterator object at 0x0000028EE7FDE8D0>\n",
    "\n",
    "for x in it:\n",
    "    print(x, x.group())"
   ]
  },
  {
   "cell_type": "code",
   "execution_count": null,
   "metadata": {},
   "outputs": [],
   "source": [
    "# 한글 정규식 패턴 [ㄱ-힣]\n",
    "source = \"English 대한민국 Japan 세종대왕 China 훈민정음\"\n",
    "p = re.compile(r\"[ㄱ-힣]+\")  # Unicode\n",
    "\n",
    "print(p.findall(source))"
   ]
  },
  {
   "cell_type": "code",
   "execution_count": null,
   "metadata": {},
   "outputs": [],
   "source": [
    "# 예제 : 전화번호 매칭\n",
    "# 010-1234-5678\n",
    "tel = re.compile(r\"\\d{2,3}-\\d{3,4}-\\d{4}\")\n",
    "m = tel.match(\"010-1234-5678\")\n",
    "print(m, m.group())\n",
    "\n",
    "# 매칭된 객체를 그룹화 할 수 있다.\n",
    "tel = re.compile(r\"(\\d{2,3})-(\\d{3,4})-(\\d{4})\")\n",
    "m = tel.match(\"010-1234-5678\")\n",
    "print(m, m.groups())\n",
    "\n",
    "# 그룹화된 매칭 객체에 키를 붙일 수 있다. (?P<key>)\n",
    "tel = re.compile(r\"(?P<area>\\d{2,3})-(?P<exchange>\\d{3,4})-(?P<number>\\d{4})\")\n",
    "m = tel.match(\"010-1234-5678\")\n",
    "print(m, m.groups())\n",
    "print(m, m.groupdict())  # 키가 부여된 크룹 매칭은 groupdict로 받아올 수 있다."
   ]
  },
  {
   "cell_type": "code",
   "execution_count": null,
   "metadata": {},
   "outputs": [],
   "source": [
    "# 예제 : 이메일 주소 추출\n",
    "source = \"\"\"\n",
    "예제 주소록\n",
    "이 문자열에서 이메일 주소만 추출해 주세요\n",
    "남승균 kyun.nam@gmail.com\n",
    "홍길동 hong@gwalbin.org\n",
    "임꺽정 lim@thieves.org\n",
    "둘리 dooly@dooly.net\n",
    "\"\"\"\n",
    "\n",
    "# print(source)\n",
    "pattern = r\"\\w+[\\w\\.]*@\\w+[\\w\\.]*\\.[a-z]+\" # \\w+         : w(문자나 숫자)가 1개 이상\n",
    "                                           # [\\w\\.]*     : w(문자나 숫자) 또는 .이 0개 이상\n",
    "                                           # @           : @\n",
    "                                           # \\w+         : w(문자나 숫자)가 1개 이상\n",
    "                                           # [\\w\\.]*     : w(문자나 숫자) 또는 .이 0개 이상\n",
    "                                           # \\.          : .\n",
    "                                           # [a-z]+      : 알파벳 소문자가 1개 이상\n",
    "emails = re.findall(pattern, source)\n",
    "print(emails)"
   ]
  },
  {
   "cell_type": "code",
   "execution_count": null,
   "metadata": {},
   "outputs": [],
   "source": [
    "# split과 sub(치환)\n",
    "# str이 가진 split과 replace는\n",
    "# 문자열 완전 매칭으로\n",
    "# 제한된 기능만 수행\n",
    "source = \"사과 오렌지: 바나나, 토마토|수박\"\n",
    "pattern = r\"[ :|,]+\"  # 공백, :, |, , 을 분절 기준 문자로 split\n",
    "print(\"Pattern Split:\", re.split(pattern, source))\n",
    "\n",
    "# source 문자열 내의 pattern 매칭 문자열을 ,,로 치환\n",
    "print(\"Pattern Sub:\", re.sub(pattern, \",,\", source))"
   ]
  }
 ],
 "metadata": {
  "kernelspec": {
   "display_name": "Python 3",
   "language": "python",
   "name": "python3"
  },
  "language_info": {
   "codemirror_mode": {
    "name": "ipython",
    "version": 3
   },
   "file_extension": ".py",
   "mimetype": "text/x-python",
   "name": "python",
   "nbconvert_exporter": "python",
   "pygments_lexer": "ipython3",
   "version": "3.7.3"
  }
 },
 "nbformat": 4,
 "nbformat_minor": 4
}
