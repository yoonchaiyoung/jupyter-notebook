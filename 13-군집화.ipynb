{
 "cells": [
  {
   "cell_type": "code",
   "execution_count": null,
   "metadata": {},
   "outputs": [],
   "source": [
    "# 군집화(clustering) : 데이터를 n개의 클러스터로 분할\n",
    "# 군집화 연습 1\n",
    "from sklearn.datasets import make_blobs\n",
    "from sklearn.cluster import KMeans\n",
    "\n",
    "# 사용할 데이터 : make_blobs\n",
    "\n",
    "# 인위적으로 군집화 데이터 생성 : make_blobs\n",
    "# scikit-learn make_blobs 설명 참조 : https://scikit-learn.org/stable/modules/generated/sklearn.datasets.make_blobs.html\n",
    "X, y = make_blobs(random_state=1, centers=3)  # 3개의 군집으로 데이터 생성\n",
    "\n",
    "# 1차 시각화\n",
    "import matplotlib.pyplot as plt\n",
    "\n",
    "plt.scatter(X[:, 0], X[:, 1])\n",
    "plt.show()"
   ]
  },
  {
   "cell_type": "code",
   "execution_count": null,
   "metadata": {},
   "outputs": [],
   "source": [
    "# target label 확인\n",
    "print(\"Targets:\", y)"
   ]
  },
  {
   "cell_type": "code",
   "execution_count": null,
   "metadata": {},
   "outputs": [],
   "source": [
    "# KMeans 모델 생성\n",
    "kmeans = KMeans(n_clusters=3)  # 3개의 클러스터로 군집화\n",
    "kmeans.fit(X)\n",
    "# 예측된 클러스터 레이블\n",
    "print(\"예측된 레이블:\", kmeans.labels_)"
   ]
  },
  {
   "cell_type": "code",
   "execution_count": null,
   "metadata": {},
   "outputs": [],
   "source": [
    "# 데이터 프레임 생성\n",
    "import pandas as pd\n",
    "df = pd.DataFrame({\n",
    "    \"Feature 1\": X[:, 0],\n",
    "    \"Feature 2\": X[:, 1],\n",
    "    \"cluster\":kmeans.labels_\n",
    "})\n",
    "display(df)"
   ]
  },
  {
   "cell_type": "code",
   "execution_count": null,
   "metadata": {},
   "outputs": [],
   "source": [
    "# 시각화\n",
    "# 그룹별 시각화\n",
    "# 유일한 값 찾기\n",
    "for cluster in sorted(df['cluster'].unique()):\n",
    "#     print(cluster)\n",
    "    data = df[df['cluster'] == cluster]  # 필터링 : cluster가 0, 1, 2인 데이터만 추출\n",
    "    plt.scatter(data['Feature 1'], data['Feature 2'], label=cluster)\n",
    "\n",
    "# 클러스터의 중심 시각화\n",
    "# print(kmeans.cluster_centers_)\n",
    "# (0번째, 1번째)가 (x좌표, y좌표)\n",
    "for center in kmeans.cluster_centers_:\n",
    "    plt.plot(center[0], center[1], marker=\"^\", c=\"red\")\n",
    "# 각 클러스터별로 중심을 빨강색 삼각형으로 표시\n",
    "\n",
    "plt.legend()  # 범례 표시\n",
    "plt.show()"
   ]
  },
  {
   "cell_type": "code",
   "execution_count": null,
   "metadata": {},
   "outputs": [],
   "source": []
  },
  {
   "cell_type": "code",
   "execution_count": null,
   "metadata": {},
   "outputs": [],
   "source": []
  },
  {
   "cell_type": "code",
   "execution_count": null,
   "metadata": {},
   "outputs": [],
   "source": [
    "# 군집화 연습 2\n",
    "# 사용할 데이터 : iris 데이터셋\n",
    "from sklearn.datasets import load_iris\n",
    "\n",
    "iris = load_iris()\n",
    "# print(iris)\n",
    "# print(iris[\"DESCR\"])\n",
    "print(\"Shape of data:\", iris['data'].shape)\n",
    "# 출력값 : (150, 4)\n",
    "# 데이터의 갯수 : 150개,\n",
    "# 변수의 갯수 : 4개\n",
    "print(iris.feature_names)  # 변수의 이름\n",
    "print(iris.target_names)   # target의 이름  \n",
    "# 3개 -> n_clusters = 3으로 하면 되겠다."
   ]
  },
  {
   "cell_type": "code",
   "execution_count": null,
   "metadata": {},
   "outputs": [],
   "source": [
    "# 알고리즘 생성\n",
    "model = KMeans(n_clusters = 3)  # 중심이 3개인 클러스터링을 하겠다.\n",
    "model.fit(iris.data)  # iris['data'] 로 학습시킨다.\n",
    "print(\"예측된 클러스터:\", model.cluster_centers_)"
   ]
  },
  {
   "cell_type": "code",
   "execution_count": null,
   "metadata": {},
   "outputs": [],
   "source": [
    "# 데이터 프레임 생성\n",
    "import numpy as np\n",
    "cluster_df = pd.DataFrame(\n",
    "    data = np.c_[iris.data, model.labels_],  # np.c_ : 열방향으로(세로로) 붙인다.\n",
    "    columns = iris.feature_names + [\"label\"]  # 컬럼에 기존의 변수명 4개 + \"label\" 이라는 컬럼 1개 더 추가\n",
    ")\n",
    "display(cluster_df)\n",
    "\n",
    "cluster_df.label = cluster_df.label.astype(\"uint8\")  # 0.0, 1.0, 2.0(실수형) -> 0, 1, 2(정수형) 변환\n",
    "display(cluster_df)"
   ]
  },
  {
   "cell_type": "code",
   "execution_count": null,
   "metadata": {},
   "outputs": [],
   "source": [
    "# 변수들 중 sepal length vs sepal width로 시각화해보자.\n",
    "for label in sorted(cluster_df.label.unique()):\n",
    "    print(\"label:\", label)\n",
    "    # label에는 0, 1, 2가 있다.\n",
    "\n",
    "    # 필터링 : label이 0인 데이터, 1인 데이터, 2인 데이터만 추출\n",
    "    cluster_data = cluster_df[cluster_df.label == label]\n",
    "    plt.scatter(\n",
    "        cluster_data.iloc[:, 0],  # x축 : 0번 변수(sepal length)\n",
    "        cluster_data.iloc[:, 1],  # y축 : 1번 변수(sepal width)\n",
    "        label=label\n",
    "    )\n",
    "\n",
    "plt.xlabel(\"sepal length\")\n",
    "plt.ylabel(\"sepal width\")\n",
    "plt.legend()\n",
    "plt.show()"
   ]
  }
 ],
 "metadata": {
  "kernelspec": {
   "display_name": "Python 3",
   "language": "python",
   "name": "python3"
  },
  "language_info": {
   "codemirror_mode": {
    "name": "ipython",
    "version": 3
   },
   "file_extension": ".py",
   "mimetype": "text/x-python",
   "name": "python",
   "nbconvert_exporter": "python",
   "pygments_lexer": "ipython3",
   "version": "3.7.3"
  }
 },
 "nbformat": 4,
 "nbformat_minor": 4
}
