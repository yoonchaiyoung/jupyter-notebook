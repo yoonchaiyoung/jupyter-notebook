{
 "cells": [
  {
   "cell_type": "code",
   "execution_count": null,
   "metadata": {},
   "outputs": [],
   "source": [
    "# 데이터셋의 확인\n",
    "from sklearn.datasets import load_iris\n",
    "iris_dataset = load_iris()\n",
    "type(iris_dataset)"
   ]
  },
  {
   "cell_type": "code",
   "execution_count": null,
   "metadata": {},
   "outputs": [],
   "source": [
    "# Bunch의 내용물 확인\n",
    "print(iris_dataset.keys())"
   ]
  },
  {
   "cell_type": "code",
   "execution_count": null,
   "metadata": {},
   "outputs": [],
   "source": [
    "# 데이터셋의 설명서 확인\n",
    "print(iris_dataset['DESCR'])"
   ]
  },
  {
   "cell_type": "code",
   "execution_count": null,
   "metadata": {},
   "outputs": [],
   "source": [
    "# 분류해야 할 target의 이름\n",
    "print(\"Target names:\", iris_dataset['target_names'])"
   ]
  },
  {
   "cell_type": "code",
   "execution_count": null,
   "metadata": {},
   "outputs": [],
   "source": [
    "# target의 확인\n",
    "print(\"Target:\", iris_dataset['target'])"
   ]
  },
  {
   "cell_type": "code",
   "execution_count": null,
   "metadata": {},
   "outputs": [],
   "source": [
    "# 학습 데이터를 DataFrame으로 확인\n",
    "import pandas as pd\n",
    "iris_df = pd.DataFrame(iris_dataset['data'],  # 데이터\n",
    "                      columns=iris_dataset['feature_names'])\n",
    "iris_df"
   ]
  },
  {
   "cell_type": "code",
   "execution_count": null,
   "metadata": {},
   "outputs": [],
   "source": [
    "tnames = [iris_dataset['target_names'][i] for i in iris_dataset['target']]\n",
    "target_df = pd.DataFrame(zip(iris_dataset['target'], tnames),\n",
    "                        columns=['target', 'target_names'])\n",
    "target_df"
   ]
  },
  {
   "cell_type": "code",
   "execution_count": null,
   "metadata": {},
   "outputs": [],
   "source": [
    "import matplotlib.pyplot as plt\n",
    "plt.figure(figsize=(10, 10))\n",
    "plt.scatter(iris_df['petal length (cm)'],  # x축\n",
    "           iris_df['petal width (cm)'],  # y축\n",
    "           c = target_df['target']  # 색상\n",
    "           )\n",
    "plt.xlabel(\"Petal Length\")\n",
    "plt.ylabel(\"Petal Width\")\n",
    "plt.show()"
   ]
  },
  {
   "cell_type": "code",
   "execution_count": null,
   "metadata": {},
   "outputs": [],
   "source": [
    "# 산점도 매트릭스\n",
    "pd.plotting.scatter_matrix(iris_df,  # 데이터 셋\n",
    "                          c=iris_dataset['target'],  # 각 데이터의 target으로 색상 구분\n",
    "                          figsize=(10, 10),\n",
    "                          marker='o',\n",
    "                          hist_kwds={\"bins\":20},\n",
    "                          s=60, alpha=.8\n",
    "                          )\n",
    "plt.show()"
   ]
  },
  {
   "cell_type": "code",
   "execution_count": null,
   "metadata": {},
   "outputs": [],
   "source": [
    "# 학습 데이터와 테스트 데이터 분할\n",
    "from sklearn.model_selection import train_test_split\n",
    "# 분할\n",
    "X_train, X_test, y_train, y_test = train_test_split(\n",
    "    iris_dataset['data'],  # 데이터\n",
    "    iris_dataset['target'],  # 라벨\n",
    "    random_state=0\n",
    ")"
   ]
  },
  {
   "cell_type": "code",
   "execution_count": null,
   "metadata": {},
   "outputs": [],
   "source": [
    "print(\"X_train size:\", X_train.shape)\n",
    "print(\"X_test size:\", X_test.shape)\n",
    "print(\"y_train size:\", y_train.shape)\n",
    "print(\"y_test size:\", y_test.shape)"
   ]
  },
  {
   "cell_type": "code",
   "execution_count": null,
   "metadata": {},
   "outputs": [],
   "source": [
    "# 학습 진행\n",
    "# kNN 알고리즘 사용\n",
    "from sklearn.neighbors import KNeighborsClassifier\n",
    "# 모델\n",
    "knn = KNeighborsClassifier(n_neighbors=3)  # 이웃 3개를 기준으로 분류"
   ]
  },
  {
   "cell_type": "code",
   "execution_count": null,
   "metadata": {},
   "outputs": [],
   "source": [
    "knn.fit(X_train, y_train)  # 지도학습이니까 학습 데이터와 정답(라벨)"
   ]
  },
  {
   "cell_type": "code",
   "execution_count": null,
   "metadata": {},
   "outputs": [],
   "source": [
    "# 새로운 데이터를 이용한 품종의 예측\n",
    "import numpy as np\n",
    "\n",
    "X_new = np.array([[5, 2.9, 1, 0.2]])\n",
    "\n",
    "prediction = knn.predict(X_new)\n",
    "print(\"예측값:\", prediction)\n",
    "print(\"예측한 품종:\", iris_dataset['target_names'][prediction])"
   ]
  },
  {
   "cell_type": "code",
   "execution_count": null,
   "metadata": {},
   "outputs": [],
   "source": [
    "# 평가(Evaluate)\n",
    "# X_test(테스트 데이터셋)으로 예측\n",
    "y_pred = knn.predict(X_test)\n",
    "print(\"테스트 세트에 대한 예측값:\", y_pred)\n",
    "print(\"테스트 세트 라벨(정답):\", y_test)"
   ]
  },
  {
   "cell_type": "code",
   "execution_count": null,
   "metadata": {},
   "outputs": [],
   "source": [
    "# 정확도 판단\n",
    "print(\"테스트 세트의 정확도: {:.2f}\".format(np.mean(y_pred == y_test)))"
   ]
  },
  {
   "cell_type": "code",
   "execution_count": null,
   "metadata": {},
   "outputs": [],
   "source": [
    "# 정확도 판단(score)\n",
    "print(\"테스트 세트의 정확도: {:.2f}\".format(knn.score(X_test, y_test)))"
   ]
  }
 ],
 "metadata": {
  "kernelspec": {
   "display_name": "Python 3",
   "language": "python",
   "name": "python3"
  },
  "language_info": {
   "codemirror_mode": {
    "name": "ipython",
    "version": 3
   },
   "file_extension": ".py",
   "mimetype": "text/x-python",
   "name": "python",
   "nbconvert_exporter": "python",
   "pygments_lexer": "ipython3",
   "version": "3.7.3"
  }
 },
 "nbformat": 4,
 "nbformat_minor": 4
}
