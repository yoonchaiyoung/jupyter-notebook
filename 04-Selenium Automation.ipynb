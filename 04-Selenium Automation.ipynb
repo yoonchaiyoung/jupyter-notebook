{
 "cells": [
  {
   "cell_type": "code",
   "execution_count": null,
   "metadata": {},
   "outputs": [],
   "source": [
    "from selenium import webdriver\n",
    "# 크롬 브라우저 실행\n",
    "driver = webdriver.Chrome(\"D:/data-science/driver/chromedriver.exe\")  # 드라이버 실행 파일명\n",
    "# www.naver.com에 접속\n",
    "driver.get(\"http://www.naver.com\")\n",
    "\n",
    "# 잠시만 대기\n",
    "driver.implicitly_wait(3)\n",
    "\n",
    "# 로그인 버튼의 xpath : //*[@id=\"account\"]/a\n",
    "btn_login = driver.find_elements_by_xpath(\"//*[@id=\\\"account\\\"]/a\")[0]\n",
    "btn_login.click()  # 클릭 이벤트 전송\n",
    "\n",
    "# 잠시만 대기\n",
    "driver.implicitly_wait(3)\n",
    "\n",
    "# 아이디 입력창을 찾아서 키보드 입력을 전송\n",
    "input_id = driver.find_element_by_css_selector(\"#id\")\n",
    "input_id.send_keys(\"yourid\")\n",
    "\n",
    "# 비밀번호 입력창을 찾아서 키보드 입력을 전송\n",
    "input_pw = driver.find_element_by_css_selector(\"#pw\")\n",
    "input_pw.send_keys(\"yourpassword\")\n",
    "\n",
    "# 로그인 버튼을 누른다\n",
    "btn_submit = driver.find_element_by_xpath(\"//*[@id=\\\"log.login\\\"]\")\n",
    "btn_submit.click()"
   ]
  },
  {
   "cell_type": "code",
   "execution_count": null,
   "metadata": {},
   "outputs": [],
   "source": [
    "# 네이버에 접속\n",
    "driver = webdriver.Chrome(\"D:/data-science/driver/chromedriver.exe\")\n",
    "driver.get(\"http://www.naver.com\")\n",
    "\n",
    "# 잠시만 대기\n",
    "driver.implicitly_wait(3)\n",
    "\n",
    "# 검색어 창에 검색어를 입력\n",
    "input_search = driver.find_element_by_xpath(\"//*[@id=\\\"query\\\"]\")\n",
    "input_search.send_keys(\"갤럭시 FE\")\n",
    "\n",
    "# 검색 버튼 누르기\n",
    "btn_submit = driver.find_element_by_css_selector(\"#search_btn\")\n",
    "btn_submit.click()\n",
    "\n",
    "# 페이지 소스 확보\n",
    "\n",
    "print(\"검색 페이지의 소스\")\n",
    "html_text = driver.page_source\n",
    "\n",
    "from bs4 import BeautifulSoup\n",
    "dom = BeautifulSoup(html_text)\n",
    "\n",
    "# print(dom.prettify())\n",
    "# 여기서부터 데이터 수집 작업을 진행"
   ]
  }
 ],
 "metadata": {
  "kernelspec": {
   "display_name": "Python 3",
   "language": "python",
   "name": "python3"
  },
  "language_info": {
   "codemirror_mode": {
    "name": "ipython",
    "version": 3
   },
   "file_extension": ".py",
   "mimetype": "text/x-python",
   "name": "python",
   "nbconvert_exporter": "python",
   "pygments_lexer": "ipython3",
   "version": "3.7.3"
  }
 },
 "nbformat": 4,
 "nbformat_minor": 4
}
