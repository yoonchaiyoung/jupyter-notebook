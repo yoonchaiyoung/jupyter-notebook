{
 "cells": [
  {
   "cell_type": "code",
   "execution_count": null,
   "metadata": {},
   "outputs": [],
   "source": [
    "from urllib.request import Request\n",
    "from urllib.parse import quote\n",
    "import urllib\n",
    "\n",
    "# 요청을 위한 id와 secret\n",
    "client_id = \"(여기에 client_id 입력)\"\n",
    "client_secret = \"(여기에 client_secret 입력)\"\n",
    "\n",
    "# 검색어 인코딩\n",
    "enc_text = quote(\"코로나\")\n",
    "url = \"https://openapi.naver.com/v1/search/news.json?query={}\".format(enc_text)\n",
    "print(\"API 요청 URL:\", url)\n",
    "\n",
    "# 요청 생성\n",
    "req = Request(url)\n",
    "# API 접근을 위한 인증 정보를 header에 수록\n",
    "req.add_header(\"X-Naver-Client-Id\", client_id)\n",
    "req.add_header(\"X-Naver-Client-Secret\", client_secret)\n",
    "\n",
    "# 응답\n",
    "resp = urllib.request.urlopen(req)\n",
    "\n",
    "respcode = resp.getcode()\n",
    "\n",
    "if respcode == 200: # 성공\n",
    "    resp_body = resp.read().decode(\"utf-8\")\n",
    "    print(\"Success\")\n",
    "else: # 실패\n",
    "    print(\"HTTP-Error: %d\" % respcode)"
   ]
  },
  {
   "cell_type": "code",
   "execution_count": null,
   "metadata": {},
   "outputs": [],
   "source": [
    "# 응답의 확인\n",
    "# print(resp_body)\n",
    "# json text -> json object (dict)\n",
    "import json\n",
    "from html import unescape # html 특수 문자 -> 원래 문자로\n",
    "\n",
    "json_obj = json.loads(resp_body)\n",
    "# print(\"JSON:\", json_obj, type(json_obj))\n",
    "json_items = json_obj['items']\n",
    "# print(json_items)\n",
    "\n",
    "# title과 description내의 태그 제거\n",
    "import re\n",
    "def remove_tag(html):\n",
    "    \"태그 제거용 함수\"\n",
    "    \n",
    "    tag_pattern = re.compile(r\"<[^>]+>\")\n",
    "    return tag_pattern.sub('', unescape(html))\n",
    "\n",
    "news_list = []\n",
    "for item in json_items:\n",
    "    news = {\n",
    "        \"title\": remove_tag(item['title']),\n",
    "        \"link\": item['originallink'],\n",
    "        \"description\": remove_tag(item['description'])\n",
    "    }\n",
    "    news_list.append(news)\n",
    "\n",
    "print(\"[네이버 뉴스 검색 결과]\")\n",
    "for news in news_list:\n",
    "    print(\"{} - {}\".format(news['title'], news['link']))"
   ]
  }
 ],
 "metadata": {
  "kernelspec": {
   "display_name": "Python 3",
   "language": "python",
   "name": "python3"
  },
  "language_info": {
   "codemirror_mode": {
    "name": "ipython",
    "version": 3
   },
   "file_extension": ".py",
   "mimetype": "text/x-python",
   "name": "python",
   "nbconvert_exporter": "python",
   "pygments_lexer": "ipython3",
   "version": "3.7.3"
  }
 },
 "nbformat": 4,
 "nbformat_minor": 4
}
