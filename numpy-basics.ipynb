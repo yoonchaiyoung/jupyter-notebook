{
 "cells": [
  {
   "cell_type": "markdown",
   "metadata": {},
   "source": [
    "## Introducing Numpy\n",
    "\n",
    "### numpy 배열\n",
    "\n",
    "- numpy는 과학계산을 수행하는 파이썬 핵심 패키지\n",
    "- 주요 제공 기능\n",
    "    - N 차원 배열\n",
    "    - 원소별 연산(브로드캐스팅)\n",
    "    - 브로드캐스팅 그림 참조 : https://taewanmerepo.github.io/2018/01/numpy/broadcast.png\n",
    "    - 선형대수학 등 핵심 수학 연산\n",
    "    - C/C++, 포트란 코드 인터페이스 제공\n",
    "    \n",
    "- numpy 공식 레퍼런스\n",
    "    - https://docs.scipy.org/doc/numpy/reference/\n",
    "    \n",
    "### Python list vs numpy 배열\n",
    "\n",
    "- Python의 리스트는 거의 모든 종류의 객체를 담을 수 있어 유연하지만, 속도와 메모리 효율이 좋지 않다는 것이 단점\n",
    "- numpy의 배열은 한 행에 동일 형식의 원소를 저장\n",
    "    - Python의 리스트에 비해 유연성은 떨어지지만\n",
    "    - 빠른 연산과 메모리 효율에서 강점을 보인다\n",
    "    \n",
    "### numpy의 사용\n",
    "\n",
    "- 일반적으로 numpy는 np라는 별칭으로 줄여 임포트한다"
   ]
  },
  {
   "cell_type": "code",
   "execution_count": null,
   "metadata": {},
   "outputs": [],
   "source": [
    "# numpy를 np 별칭으로 임포트 해 봅시다\n",
    "import numpy as np"
   ]
  },
  {
   "cell_type": "markdown",
   "metadata": {},
   "source": [
    "### numpy 배열 만들기\n",
    "\n",
    "- Python의 리스트를 이용한 생성\n",
    "    - 각 값들은 (양의 정수)튜플 형태로 인덱싱됨\n",
    "    - shape는 각 차원의 크기를 튜플로 반환\n",
    "    - (rank는 배열이 몇 차원인지 의미) -> 이젠 사용X\n",
    "    - 다차원 배열을 만들기 위해서는 리스트를 중첩하여 생성\n",
    "        - 차원은 대괄호의 갯수로도 알 수 있음    \n",
    "    - ex) 리스트 -> numpy 배열 : np.array(리스트)\n",
    "    - numpy 배열 -> 리스트 : 배열.tolist()"
   ]
  },
  {
   "cell_type": "markdown",
   "metadata": {},
   "source": [
    "### 배열 상태 확인\n",
    "    - shape 확인 : 배열.shape\n",
    "    - 차원 확인 : 배열.ndim\n",
    "    - 원소 갯수 확인 : 배열.size\n",
    "    - (1차원 배열만) 길이 확인 : len(배열)\n",
    "    - 배열 타입 확인 : 배열.dtype\n",
    "    - 겹치지 않는 유일한 값 확인 : 배열[feature이름].unique()\n",
    "    - 원소별 갯수 세기 : 배열[feature이름].value_counts()\n",
    "        - () 안의 파라미터 : \n",
    "        - normalize=False(갯수 세기) / True(비율 구하기)\n",
    "        - sort=True(갯수 기준 정렬) / False(값 기준 정렬)\n",
    "        - ascending=False(내림차순 정렬) / True(오름차순 정렬)\n",
    "        - dropna=True(NaN 값 무시) / False(NaN 값 포함)"
   ]
  },
  {
   "cell_type": "code",
   "execution_count": null,
   "metadata": {
    "scrolled": true
   },
   "outputs": [],
   "source": [
    "# Python의 리스트를 이용한 생성 방법 연습\n",
    "arr = np.array([1,2,3])\n",
    "print(\"arr의 type:\", type(arr))\n",
    "\n",
    "shape = arr.shape\n",
    "print(\"arr의 shape:\", shape)  # rank가 1인 배열\n",
    "\n",
    "# 2차원 배열\n",
    "arr2d = np.array([\n",
    "    [1, 2, 3],\n",
    "    [4, 5, 6],\n",
    "    [7, 8, 9]\n",
    "])\n",
    "print(arr2d)\n",
    "print(\"arr2d의 shape:\", arr2d.shape)  # rank가 2인 배열\n",
    "\n",
    "# 3차원 배열\n",
    "arr3d = np.array([\n",
    "    [\n",
    "        [1, 2, 3],\n",
    "        [4, 5, 6],\n",
    "        [7, 8, 9]\n",
    "    ],\n",
    "    [\n",
    "        [10, 11, 12],\n",
    "        [13, 14, 15],\n",
    "        [16, 17, 18]\n",
    "    ]\n",
    "])\n",
    "print(arr3d)\n",
    "print(\"arr3d의 shape:\", arr3d.shape)  # 출력값 : (2, 3, 4) # 2열 3행 3matrix"
   ]
  },
  {
   "cell_type": "code",
   "execution_count": null,
   "metadata": {},
   "outputs": [],
   "source": [
    "# 리스트 객체 -> numpy 배열 객체 변환 : np.array(리스트객체)\n",
    "list1 = [[1, 2, 3], [4, 5, 6]]\n",
    "print(list1)\n",
    "print(type(list1))\n",
    "\n",
    "arr12 = np.array(list1)\n",
    "print(arr12)\n",
    "print(type(arr12))\n",
    "\n",
    "# numpy 배열 객체 -> 리스트 객체 변환 : numpy배열객체.tolist()\n",
    "list2 = arr12.tolist()\n",
    "print(list2)\n",
    "print(type(list2))\n",
    "\n",
    "# 튜플 객체 -> numpy 배열 객체 변환 : np.array(튜플객체)\n",
    "tuple1 = (0, 1, 2, 3, 4, 5)\n",
    "tupTOarr = np.array(tuple1).reshape(2, 3)\n",
    "print(tupTOarr, type(tupTOarr), tupTOarr.shape)"
   ]
  },
  {
   "cell_type": "markdown",
   "metadata": {},
   "source": [
    "- List 없이 array 만들기\n",
    "    - () 안에 튜플로 된 shape 지정\n",
    "    \n",
    "    - np.zeros() : 0으로 채워진 배열\n",
    "    - np.ones() : 1로 채워진 배열\n",
    "    - np.full(shape, '지정한 상수') : 지정한 상수로 채워진 배열\n",
    "    - np.eye() : 단위 행렬(항등 행렬) 생성 // 주대각선성분 : 1, 나머지성분 : 0\n",
    "    - np.identity() : 단위 행렬(항등 행렬) 생성\n",
    "    - np.empty() : 초기화하지 않은 행렬 생성(메모리 초기화 안 된 상태라 예상치 못한 쓰레기값이 들어가있을 수 있음)"
   ]
  },
  {
   "cell_type": "markdown",
   "metadata": {},
   "source": [
    "- 이미 있는 배열과 똑같은 shape의 array 만들기\n",
    "    - () 안에 배열 객체 입력\n",
    "    - np.zeros_like()\n",
    "    - np.ones_like()\n",
    "    - np.full_like(배열, '지정한 상수')\n",
    "    - np.empty_like() : 주어진 배열과 동일한 shape를 가지며 초기화되지 않은 행렬 생성"
   ]
  },
  {
   "cell_type": "markdown",
   "metadata": {},
   "source": [
    "- 배열 2개를 붙여서 배열 만들기\n",
    "    - 배열 + 배열 열 방향으로(왼쪽>오른쪽) 붙이기\n",
    "        - np.r_[arr1, arr2]\n",
    "        - np.hstack([arr1, arr2])\n",
    "        - np.concatenate((arr1, arr2))  # 기본값 : axis=0\n",
    "        - np.concatenate((arr1, arr2), axis=0)\n",
    "    - 배열\n",
    "       +\n",
    "      배열   행 방향으로(위쪽>아래쪽) 붙이기\n",
    "        - np.r_[[arr1, arr2]]\n",
    "        - np.vstack([arr1, arr2])\n",
    "        - np.concatenate((arr1, arr2), axis=1)   # 1차원 배열은 불가능\n",
    "    - 1차원 배열 + 1차원 배열 열 방향으로(세로로) 붙여서 2차원 배열 만들기\n",
    "        - np.c_[arr1, arr2]\n",
    "        - np.column_stack([arr1, arr2])\n",
    "        - np.concatenate((arr1.T, arr2.T), axis=1)  # 1차원 배열은 불가능"
   ]
  },
  {
   "cell_type": "code",
   "execution_count": null,
   "metadata": {},
   "outputs": [],
   "source": [
    "# array를 만드는 다양한 방법을 알아봅시다\n",
    "arr = np.zeros((2, 2))  # 2 * 2의 0으로 채워진 rank 2의 배열\n",
    "print(\"zeros:\", arr)\n",
    "\n",
    "arr = np.ones((2, 2))  # 2 * 2의 1로 채워진 rank 2의 배열\n",
    "print(\"ones:\", arr)\n",
    "\n",
    "arr = np.full((2, 2), 7)  # 2 * 2의 상수 7로 채워진 rank 2의 배열\n",
    "print(\"full:\", arr)\n",
    "\n",
    "arr = np.eye(2)  # 2 * 2의 단위행렬(주대각성분 : 1, 나머지 성분 : 0 으로 채워진 행렬)\n",
    "print(\"eye:\", arr)\n",
    "\n",
    "arr = np.array([\n",
    "    [1, 2, 3],\n",
    "    [4, 5, 6]\n",
    "])\n",
    "el = np.empty_like(arr)  # arr과 shape가 동일한 초기화 되지 않은 배열 생성\n",
    "print(el)\n",
    "print(arr.shape == el.shape)  # shape는 동일한가?"
   ]
  },
  {
   "cell_type": "markdown",
   "metadata": {},
   "source": [
    "- 범위 벡터의 생성\n",
    "    - arange() : 범위 값으로 배열 만들기\n",
    "    - linspace() : 선형 간격의 벡터 만들기\n",
    "    - logspace() : 로그 간격의 벡터 만들기"
   ]
  },
  {
   "cell_type": "code",
   "execution_count": null,
   "metadata": {
    "scrolled": false
   },
   "outputs": [],
   "source": [
    "# 범위 벡터를 만들기 연습\n",
    "arr = np.arange(100)  # 0부터 99까지의 범위 벡터\n",
    "print(arr)\n",
    "\n",
    "arr = np.linspace(0, 1, 100)  # 0부터 1까지의 범위를 100개로 선형 분할\n",
    "print(arr)\n",
    "\n",
    "arr = np.logspace(0, 1, 100)  # 0부터 1까지의 범위를 100개로 로그 분할\n",
    "print(arr)  # log(1) = 0, log(10) = 1 // 밑이 10인 상용로그"
   ]
  },
  {
   "cell_type": "markdown",
   "metadata": {},
   "source": [
    "### array의 타입\n",
    "\n",
    "- numpy의 array는 한 가지 타입만 담을 수 있다\n",
    "    - 데이터 타입 지정X -> 임의로 적절한 데이터 타입을 선택\n",
    "    - 데이터 타입 지정 : dtype 파라미터 이용\n",
    "    - 데이터 형태 확인 : 배열.dtype\n",
    "    - 데이터 형태 변환 : 배열.astype()\n",
    "    \n",
    "- numpy 자료형 참조 페이지 : https://docs.scipy.org/doc/numpy/reference/arrays.dtypes.html"
   ]
  },
  {
   "cell_type": "code",
   "execution_count": null,
   "metadata": {
    "scrolled": true
   },
   "outputs": [],
   "source": [
    "# array의 타입 체크, 변경을 연습해 봅니다.\n",
    "arr = np.ones(2)  # 데이터 타입을 지정하지 않으면 임의로 설정\n",
    "print(arr)\n",
    "print(\"dtype of arr:\", arr.dtype)\n",
    "\n",
    "# array 생성시 dtype으로 내부 데이터 타입을 지정\n",
    "arr = np.ones(2, dtype=int)\n",
    "print(arr)\n",
    "print(\"dtype of arr:\", arr.dtype)\n",
    "\n",
    "# astype() 메서드를 이용, 다른 데이터 타입으로 변경 가능\n",
    "arr2 = arr.astype(np.float32)\n",
    "print(arr2)\n",
    "print(\"dtype of arr2:\", arr2.dtype)"
   ]
  },
  {
   "cell_type": "markdown",
   "metadata": {},
   "source": [
    "### array의 재구성\n",
    "\n",
    "- 생성된 array는 다양한 형태로 변경될 수 있다\n",
    "    - ravel() : 1차원 배열로 변경\n",
    "    - reshape() : 원하는 shape로 변경\n",
    "        - 방법 1 : np.reshape(배열, shape)\n",
    "        - 방법 2 : 배열.reshape(shape)\n",
    "        - -1을 쓰는 경우 : 자동으로 지정\n",
    "        - 배열.reshape(-1) == 배열.reshape(1, -1) # 1행의 벡터\n",
    "\n",
    "        - ex) 2차원 배열로 변경\n",
    "        - 배열.reshape(?, ?)\n",
    "        - ex) 3차원 배열로 변경\n",
    "        - 배열.reshape(?, ?, ?)\n",
    "        - ex) 3차원 배열로 변경\n",
    "        - 배열.reshape(?, ?, ?, ?)\n",
    "    - transpose() : 행렬의 전치. 열 <-> 행\n",
    "        - 간단히 T 속성을 사용해도 무방\n",
    "\n",
    "- 재구성한 배열의 요소 변경 \n",
    "- -> 원본 배열, 원본 배열로부터 파생된 모든 재구성된 배열 요소 같이 변경"
   ]
  },
  {
   "cell_type": "markdown",
   "metadata": {},
   "source": [
    "- 배열 size 변경 : 배열.resize(shape)\n",
    "- 배열.reshape()와의 차이점?\n",
    "    - 배열.reshape(shape) : 변경 shape가 원본과 맞지 않으면 오류\n",
    "    - 배열.resize(shape) : 변경 size가 원본과 맞지 않더라도 오류 X\n",
    "        - 요소가 모자라면 '0'으로 채움\n",
    "        - 요소가 남으면 앞에 요소만 남고 뒤에 남는 요소들은 삭제"
   ]
  },
  {
   "cell_type": "markdown",
   "metadata": {},
   "source": [
    "- 배열 끝에 값 추가 : np.append(배열, 값), np.append(배열, 배열)\n",
    "    1. axis 지정 안 했을 경우 : 1차원 배열로 변환됨\n",
    "    2. axis 지정했을 경우\n",
    "        - np.append(배열, 값, axis=0)\n",
    "        - np.append(배열, 값, axis=1)"
   ]
  },
  {
   "cell_type": "markdown",
   "metadata": {},
   "source": [
    "- 원하는 인덱스에 값 추가 : np.insert(배열, index, 값)\n",
    "    - 원본 배열 영향 X\n",
    "    1. axis 지정 안 했을 경우 : 1차원 배열로 변환됨\n",
    "        - np.insert(배열, index, 값)\n",
    "    2. axis 지정했을 경우\n",
    "        - np.insert(배열, index, 값, axis=0)\n",
    "        - np.insert(배열, index, 값, axis=1) "
   ]
  },
  {
   "cell_type": "markdown",
   "metadata": {},
   "source": [
    "- 원하는 인덱스의 값 삭제 : np.delete(배열, index)\n",
    "    - 원본 배열 영향 X\n",
    "    1. axis 지정 안 했을 경우 : 1차원 배열로 변환됨\n",
    "        - np.delete(배열, index)\n",
    "    2. axis 지정했을 경우\n",
    "        - np.delete(배열, index, axis=0)\n",
    "        - np.delete(배열, index, axis=1)"
   ]
  },
  {
   "cell_type": "markdown",
   "metadata": {},
   "source": [
    "- 배열 쪼개기\n",
    "    - 세로로 분할 : np.hsplit(배열, 갯수), np.hsplit(배열, 기준index)\n",
    "        - b = np.hsplit(a, 2)\n",
    "        - d = np.hsplit(a, [1, 3, 5])  # [:, :1], [:, 1:3], [:, 3:5], [:, 5:]로 분할\n",
    "    - 가로로 분할 : np.vsplit(배열, 갯수), np.vsplit(배열, 기준index)\n",
    "        - f = np.vsplit(a, 4)\n",
    "        - g = np.vsplit(a,[1, 3])  # [:1, :], [1:3, :], [3:, :]로 분할"
   ]
  },
  {
   "cell_type": "code",
   "execution_count": null,
   "metadata": {},
   "outputs": [],
   "source": [
    "# array 재구성 연습\n",
    "arr1d = np.arange(25)\n",
    "print(\"arr1d:\", arr1d)  # 1차원 배열\n",
    "arr2d = arr1d.reshape(5, 5)  # arr1d -> 5 * 5의 2차원 배열로 형태 변환\n",
    "print(\"arr2d:\", arr2d)\n",
    "# 형태 변환시 요소의 갯수가 모자라면 에러\n",
    "# arr3d = arr2d.reshape(4, 4, 4)\n",
    "\n",
    "# 다차원 배열의 요소를 1차원 형태로 변환(flatten : 평탄화 작업)\n",
    "flatten = arr2d.ravel()\n",
    "print(\"flatten:\", flatten)\n",
    "\n",
    "# 행렬의 전치 : 행 <-> 열\n",
    "print(arr2d.transpose())\n",
    "print(arr2d.T)\n",
    "print(arr2d)  # 원래 행렬이 변하진 않음"
   ]
  },
  {
   "cell_type": "markdown",
   "metadata": {},
   "source": [
    "### array의 인덱싱과 슬라이싱\n",
    "\n",
    "- numpy의 array 인덱싱과 슬라이싱은 기본적으로는 파이썬의 인덱싱/슬라이싱 방식과 거의 동일하다\n",
    "- numpy의 array는 다차원인 경우가 많기 때문에 각 차원별 인덱스/슬라이스 범위를 잘 정해주어야 한다"
   ]
  },
  {
   "cell_type": "code",
   "execution_count": null,
   "metadata": {
    "scrolled": true
   },
   "outputs": [],
   "source": [
    "# array의 인덱싱을 연습해보자.\n",
    "arr = np.arange(1, 13).reshape(4, 3)  # 1 ~ 12까지의 1차원 배열을 4행 3열의 2차원 배열로 reshape\n",
    "print(arr)\n",
    "\n",
    "# 2차원 배열이므로 행, 열의 순서로 인덱스 지정\n",
    "print(arr[0, 1])                  # 0행 1열의 요소\n",
    "# 가장 첫 번째 행을 반환\n",
    "print(arr[0, :])                  # 0행의 처음부터 끝까지\n",
    "# 가장 마지막 행을 반환\n",
    "print(arr[arr.shape[0] -1, :])\n",
    "# 역인덱스(음수) 사용 가능\n",
    "print(arr[-1, :])                 # 가장 마지막 행의 전체 열\n",
    "# 첫번째 열의 모든 요소들\n",
    "print(arr[:, 0])                  # 전체 행의 0번 열\n",
    "# 가장 마지막 열의 모든 요소들\n",
    "print(arr[:, -1])                 # 전체 행의 가장 마지막 행"
   ]
  },
  {
   "cell_type": "markdown",
   "metadata": {},
   "source": [
    "### 조건적 인덱싱\n",
    "\n",
    "- where() : 조건에 해당하는 인덱스를 추출\n",
    "- delete() : 특정 인덱스 삭제"
   ]
  },
  {
   "cell_type": "code",
   "execution_count": null,
   "metadata": {},
   "outputs": [],
   "source": [
    "# 조건적 인덱싱 연습\n",
    "arr = np.arange(1, 17).reshape(4, 4)\n",
    "print(arr)\n",
    "\n",
    "# 요소 값이 10 초과인 요소들 확인\n",
    "print(\"condition:\", arr>10)       # 브로드캐스팅 연산\n",
    "# boolean 값을 확인\n",
    "# boolean 값을 인덱스로 부여하면 True 셀만 출력\n",
    "indexes = np.where(arr>10)\n",
    "print(\"요소값이 10초과한 인덱스:\", indexes)\n",
    "\n",
    "newArr = arr[indexes]\n",
    "print(\"newArr:\", newArr)\n",
    "\n",
    "# delete : 특정 인덱스의 요소를 삭제\n",
    "# 축의 정보가 중요\n",
    "newArr2 = np.delete(arr, [0], axis=0)     # 0번 행 삭제\n",
    "print(\"newArr2:\", newArr2)\n",
    "# 1번 2번 열 삭제\n",
    "newArr3 = np.delete(arr, [1, 2], axis=1)  # 1, 2번 열 삭제\n",
    "print(\"newArr3:\", newArr3)"
   ]
  },
  {
   "cell_type": "markdown",
   "metadata": {},
   "source": [
    "### Boolean 배열 인덱싱\n",
    "\n",
    "- 논리 연산을 수행하여 복수의 조건을 만족하는 인덱스를 추출해내는 방법\n",
    "- numpy 배열 불린 연산에서는 &(and), |(or), ~(not) 연산자를 사용할 수 있다\n",
    "\n",
    "- Boolean 배열 인덱싱 참조 : https://docs.scipy.org/doc/numpy/reference/arrays.indexing.html"
   ]
  },
  {
   "cell_type": "code",
   "execution_count": null,
   "metadata": {
    "scrolled": true
   },
   "outputs": [],
   "source": [
    "# Boolean 배열 인덱싱을 연습해 봅시다.\n",
    "source = np.arange(1, 17).reshape(4, 4)   # 1 ~ 16까지 4 * 4 배열\n",
    "print(source)\n",
    "\n",
    "# 요소 값이 3보다 큰 값\n",
    "cp = source.copy()      # 배열 복사 : 깊은 복사 # 복사된 배열 변경 -> 원본 배열에 영향 X\n",
    "index_gt_3 = cp > 3    # 3보다 큰 요소의 boolean 연산\n",
    "print(cp[index_gt_3])                     # 1행의 벡터로 출력\n",
    "\n",
    "# 요소 값이 7보다 작은 값\n",
    "index_lt_7 = cp < 7      # 7보다 작은 요소의 boolean 연산\n",
    "print(cp[index_lt_7])\n",
    "\n",
    "# 두 논리의 합성\n",
    "# 연산자 주의 : &(and), |(or), ~(not)\n",
    "index_comp = (cp > 3) & (cp < 7)\n",
    "print(index_comp)\n",
    "print(cp[index_comp])\n",
    "\n",
    "# 요소들 중에서 3의 배수인 요소들만 추출\n",
    "index_mod = cp % 3 == 0\n",
    "print(index_mod)\n",
    "print(cp[index_mod])\n",
    "\n",
    "# 요소들 중에서 3의 배수가 아닌 요소들 추출\n",
    "print(~index_mod)       # not index_mod\n",
    "print(cp[~index_mod])"
   ]
  },
  {
   "cell_type": "markdown",
   "metadata": {},
   "source": [
    "### fancy indexing\n",
    "- 배열에 인덱스 배열 전달\n",
    "    - arr[[0,1,2,3], [0,1,2,3]]\n",
    "    - [arr[0,0], arr[1,1], arr[2,2], arr[3,3]]\n",
    "    - 위의 두 식은 동일한 결과\n",
    "- 전체 행에 대해 1,2번 컬럼 참조\n",
    "    - arr[:, [1,2]]"
   ]
  },
  {
   "cell_type": "markdown",
   "metadata": {},
   "source": [
    "### 배열 연산\n",
    "\n",
    "- 기본적 수학 함수는 배열의 각 요소별로 동작\n",
    "- 연산자를 이용 동작하거나 numpy 함수 모듈을 이용하여 동작함"
   ]
  },
  {
   "cell_type": "code",
   "execution_count": null,
   "metadata": {
    "scrolled": false
   },
   "outputs": [],
   "source": [
    "# 배열 연산을 연습해 봅니다.\n",
    "x = np.arange(1, 5).reshape(2, 2)\n",
    "y = np.arange(5, 9).reshape(2, 2)\n",
    "\n",
    "print(x)\n",
    "print(y)\n",
    "\n",
    "# 배열과 배열의 합\n",
    "print(x + y)\n",
    "print(np.add(x, y))\n",
    "\n",
    "# 배열과 배열의 차\n",
    "print(x - y)\n",
    "print(np.subtract(x, y))\n",
    "\n",
    "# 배열과 배열의 곱\n",
    "print(x * y)\n",
    "print(np.multiply(x, y))\n",
    "\n",
    "# 배열과 배열의 나눗셈\n",
    "print(x / y)\n",
    "print(np.divide(x, y))"
   ]
  },
  {
   "cell_type": "markdown",
   "metadata": {},
   "source": [
    "### numpy 행렬 곱\n",
    "\n",
    "- *, multiply는 기본적으로 요소의 곱\n",
    "- 벡터의 내적, 벡터와 행렬의 곱, 행렬곱을 위해서는 dot 함수 사용\n",
    "- dot 메서드는 모듈 함수, 배열 객체의 인스턴스 양쪽 모두 사용 가능"
   ]
  },
  {
   "cell_type": "code",
   "execution_count": null,
   "metadata": {
    "scrolled": false
   },
   "outputs": [],
   "source": [
    "# numpy 행렬 곱 연습\n",
    "\n",
    "# 벡터의 내적\n",
    "v1 = np.array([9, 10])\n",
    "v2 = np.array([11, 12])\n",
    "# 9 * 11 + 10 * 12\n",
    "print(v1.dot(v2))  # 객체 인스턴스\n",
    "print(np.dot(v1, v2))\n",
    "\n",
    "# 행렬과 벡터의 곱\n",
    "x = np.arange(1, 5).reshape(2, 2)\n",
    "print(x)\n",
    "print(v1)\n",
    "\n",
    "print(\"행렬 * 벡터:\", x.dot(v1))\n",
    "print(\"행렬 * 벡터:\", np.dot(x, v1))\n",
    "\n",
    "# 행렬과 행렬의 내적(중요!)\n",
    "y = np.arange(5, 9).reshape(2, 2)\n",
    "print(x)\n",
    "print(y)\n",
    "\n",
    "print(x.dot(y))  # 내적\n",
    "print(np.dot(x, y))"
   ]
  },
  {
   "cell_type": "markdown",
   "metadata": {},
   "source": [
    "### array 연산 함수\n",
    "\n",
    "- numpy는 배열 연산에 유용하게 사용되는 많은 함수를 제공\n",
    "- 배열 연산 함수 참조 : https://docs.scipy.org/doc/numpy/reference/routines.math.html\n",
    "\n",
    "- 합 : 배열.sum(), np.sum(배열)\n",
    "- axis=None : 행렬 전체\n",
    "- axis=0 : 세로로 더한다.(각 행, 동일 index의 열)\n",
    "- axis=1 : 가로로 더한다.(각 열, 동일 index의 행)\n",
    "- 배열.sum(axis=0) 참조 : http://taewan.kim/post/numpy_sum_axis/, http://taewan.kim/post/numpy_cheat_sheet/\n"
   ]
  },
  {
   "cell_type": "code",
   "execution_count": null,
   "metadata": {
    "scrolled": true
   },
   "outputs": [],
   "source": [
    "# array 연산 함수 중, sum 함수를 활용해 봅니다\n",
    "x = np.arange(1, 13).reshape(4, 3)\n",
    "print(x)\n",
    "print(\"sum:\", x.sum())  # 기본적으로는 모든 요소의 합\n",
    "\n",
    "# axis로 연산 함수를 적용할 축을 지정\n",
    "print(np.sum(x, axis=0))  # 각 열의 합산값(행의 방향)\n",
    "print(np.sum(x, axis=1))  # 각 행의 합산값(열의 방향)"
   ]
  },
  {
   "cell_type": "markdown",
   "metadata": {},
   "source": [
    "### 브로드캐스팅\n",
    "\n",
    "- numpy에서 shape가 다른 배열 혹은 배열과 스칼라 사이의 산술 연산이 가능하도록 하는 매커니즘\n",
    "- Universal Function이라고도 함"
   ]
  },
  {
   "cell_type": "code",
   "execution_count": null,
   "metadata": {
    "scrolled": true
   },
   "outputs": [],
   "source": [
    "# 브로드캐스팅을 연습해 봅니다\n",
    "# 배열과 스칼라의 연산\n",
    "x = np.arange(12).reshape(3, 4)\n",
    "print(x)\n",
    "\n",
    "# 각 요소에 동일한 값을 더해보자.\n",
    "print(x + 2)\n",
    "\n",
    "# 배열과 배열의 브로드캐스팅\n",
    "y = np.array([1, 2, 3, 4])\n",
    "print(y)\n",
    "print(x + y)"
   ]
  },
  {
   "cell_type": "markdown",
   "metadata": {},
   "source": [
    "### numpy 난수 발생\n",
    "\n",
    "- 임의의 수가 필요할 때, 혹은 전체 데이터를 기반으로 샘플링을 하고자 할 때는 난수가 필요\n",
    "- numpy의 난수 발생은 단순히 임의의 난수를 넘어 다양한 통계(분포:distribution) 기반의 샘플링을 위한 난수 기능을 다양하게 제공\n",
    "- random 패키지 내에 위치\n",
    "\n",
    "- 다양한 난수 메서드들\n",
    "\n",
    "    - randint() : 정수 난수 발생\n",
    "    - randn() : n차원 난수 발생\n",
    "    - binomial() : 이항분포\n",
    "    - hypergeometric() : 초기하분포\n",
    "    - poisson() : 포아송 분포\n",
    "    - normal() : 정규 분포\n",
    "    - standart_t() : t-분포\n",
    "    - uniform() : 균등분포\n",
    "    - f() : f-분포\n",
    "    \n",
    "    - seed() : 재현 가능성(Reproductibility)을 위한 난수 초기값 설정"
   ]
  },
  {
   "cell_type": "code",
   "execution_count": null,
   "metadata": {},
   "outputs": [],
   "source": [
    "# 기본적인 난수 발생과 분포 기반 난수를 연습합니다.\n",
    "np.random.seed(seed=42)  # 재현 가능성을 위한 난수 초깃값\n",
    "# 동일한 난수 초깃값에서 난수 발생하면 동일한 난수가 발생됨\n",
    "# 단, 난수 초깃값이 초기화되지 않으면 반복할 때마다 새로운 난수 발생\n",
    "\n",
    "# 정수 난수\n",
    "print(np.random.randint(10))  # 10 이하의 정수 난수\n",
    "print(np.random.randint(1, 101, 10))  # 1 ~ 100 사이의 정수 난수 10개 생성\n",
    "\n",
    "# n차원 난수 발생\n",
    "print(np.random.randn(3, 3))  # 3 * 3의 난수 행렬 생성\n",
    "\n",
    "# 정규 분포 기반 난수 발생\n",
    "print(np.random.normal())\n",
    "\n",
    "# size 옵션 파라미터로 난수의 행렬 크기 지정할 수 있다.\n",
    "print(np.random.normal(size=(2, 2)))  # 2 * 2의 정규분포 기반 난수 행렬\n",
    "\n",
    "# 평균이 0이고 표준편차가 3인 정규분포로부터 난수 100개 생성\n",
    "rand_norm = np.random.normal(0.0,      # 평균\n",
    "                            3.0,       # 표준편차\n",
    "                            size=100   # 표본의 갯수\n",
    "                            )\n",
    "print(rand_norm)\n",
    "\n",
    "# 히스토그램을 그려보자 : 정규분포 기반 -> 종형그래프가 나올 것\n",
    "import matplotlib.pyplot as plt\n",
    "plt.hist(rand_norm)\n",
    "plt.show()"
   ]
  },
  {
   "cell_type": "markdown",
   "metadata": {},
   "source": [
    "### numpy 파일 저장/불러오기\n",
    "\n",
    "- numpy는 바이너리 형태로 저장 가능하며 저장된 데이터는 나중에 불러와 다시 사용할 수 있다\n",
    "\n",
    "- 저장 메서드\n",
    "    - save() : npy(비압축) 형태로 저장\n",
    "    - savez() : npz(압축) 형태로 저장. 압축 과정을 거치므로 save 메서드에 비해 속도는 느리지만, 대용량의 데이터 저장엔 용량의 측면에서 유리\n",
    "    \n",
    "- 불러오기 메서드\n",
    "    - load()"
   ]
  },
  {
   "cell_type": "code",
   "execution_count": null,
   "metadata": {},
   "outputs": [],
   "source": [
    "# numpy 파일 저장 불러오기 연습\n",
    "original = np.random.randn(1000, 1000)\n",
    "\n",
    "# 확장자를 지정하지 않아도 적절한 확장자가 지정된다.\n",
    "np.save(\"npydata\", original)  # original 객체를 npydata.npy로 저장\n",
    "\n",
    "# 불러오기(복원)\n",
    "recover = np.load(\"npydata.npy\")\n",
    "print(recover.shape)"
   ]
  }
 ],
 "metadata": {
  "kernelspec": {
   "display_name": "Python 3",
   "language": "python",
   "name": "python3"
  },
  "language_info": {
   "codemirror_mode": {
    "name": "ipython",
    "version": 3
   },
   "file_extension": ".py",
   "mimetype": "text/x-python",
   "name": "python",
   "nbconvert_exporter": "python",
   "pygments_lexer": "ipython3",
   "version": "3.7.3"
  }
 },
 "nbformat": 4,
 "nbformat_minor": 2
}
