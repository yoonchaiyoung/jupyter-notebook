{
 "cells": [
  {
   "cell_type": "code",
   "execution_count": null,
   "metadata": {},
   "outputs": [],
   "source": [
    "# Series -> 여러 개의 단일 타입의 데이터\n",
    "# 1차원 데이터\n",
    "import pandas as pd\n",
    "s = pd.Series([\"홍길동\", 25])\n",
    "print(s, type(s))"
   ]
  },
  {
   "cell_type": "code",
   "execution_count": null,
   "metadata": {},
   "outputs": [],
   "source": [
    "# 인덱스의 확인\n",
    "print(s.index)\n",
    "# 생성할 때 index를 임의로 부여할 수 있다.\n",
    "s2 = pd.Series([\"홍길동\", 25], index=[\"Name\", \"Age\"])\n",
    "print(s2)\n",
    "\n",
    "# 이미 만들어진 시리즈의 인덱스를 추가 부여할 수 있다.\n",
    "s.index = [\"Name\", \"Age\"]\n",
    "print(s)"
   ]
  },
  {
   "cell_type": "code",
   "execution_count": null,
   "metadata": {},
   "outputs": [],
   "source": [
    "kor = [80, 90, 75, 100, 65] # 시리즈 데이터로 활용할 리스트\n",
    "kor_s = pd.Series(kor)      # 시리즈 생성\n",
    "print(kor_s.describe())     # 기초 통계량 확인"
   ]
  },
  {
   "cell_type": "code",
   "execution_count": null,
   "metadata": {},
   "outputs": [],
   "source": [
    "# 기초 통계 함수\n",
    "print(kor_s.min(), kor_s.max())          # 최솟값, 최댓값\n",
    "print(kor_s.mean(), kor_s.median())      # 산술평균, 중앙값(50%)\n",
    "print(kor_s.std())                       # 표준편차\n",
    "print(kor_s.isin([100]))                 # 시리즈에 포함된 값이 있는지 확인"
   ]
  },
  {
   "cell_type": "code",
   "execution_count": null,
   "metadata": {},
   "outputs": [],
   "source": [
    "# 시리즈 연산\n",
    "s3 = pd.Series([1, 5, 8, 4, 6, 1, 10])\n",
    "print(\"s3:\", s3)\n",
    "\n",
    "# 시리즈(1차원)와 스칼라(0차원)의 연산 -> Broadcasting\n",
    "print(s3 * 2)\n",
    "\n",
    "# 시리즈(1차원)와 시리즈(1차원)의 연산 -> 동일 인덱스에 연산이 수행\n",
    "s4 = pd.Series([1, 2, 3, 4, 5, 6, 7])\n",
    "print(s3 + s4)\n",
    "\n",
    "# 사용자 정의 함수의 Broadcasting\n",
    "s5 = s3.apply(lambda x: 2 * x + 1)"
   ]
  },
  {
   "cell_type": "code",
   "execution_count": null,
   "metadata": {},
   "outputs": [],
   "source": [
    "# DataFrame : 해오가 열(변수)로 이루어진 테이블 데이터\n",
    "score_df = pd.DataFrame({\n",
    "    \"KOR\": [80, 90, 75],\n",
    "    \"ENG\": [90, 80, 70],\n",
    "    \"MATH\": [80, 90, 85]\n",
    "}, index = [\"홍길동\", \"김철수\", \"이영희\"])\n",
    "display(score_df)"
   ]
  },
  {
   "cell_type": "code",
   "execution_count": null,
   "metadata": {},
   "outputs": [],
   "source": [
    "# 변수의 파생 : 기존 변수를 기반으로 새로운 변수 생성\n",
    "score_df[\"TOTAL\"] = score_df[\"KOR\"] + score_df[\"ENG\"] +score_df[\"MATH\"]\n",
    "# TOTAL 변수를 기반으로 2차 파생\n",
    "score_df[\"AVERAGE\"] = score_df[\"TOTAL\"] / 3\n",
    "display(score_df)"
   ]
  },
  {
   "cell_type": "code",
   "execution_count": null,
   "metadata": {},
   "outputs": [],
   "source": [
    "# 인덱스에 boolean 값을 전달하면\n",
    "# True인 행만 필터링할 수 있다.\n",
    "# boolean 연산\n",
    "score_df[[True, False, True]]"
   ]
  },
  {
   "cell_type": "code",
   "execution_count": null,
   "metadata": {},
   "outputs": [],
   "source": [
    "# score_df['AVERAGE'] >= 80 이라는 조건의 논리값\n",
    "print(score_df['AVERAGE'] >= 80)\n",
    "# 출력값 : 홍길동     True\n",
    "#          김철수     True\n",
    "#          이영희    False\n",
    "#          Name: AVERAGE, dtype: bool\n",
    "\n",
    "# >= 80 ->  연산이 broadcasting -> 논리 추출"
   ]
  },
  {
   "cell_type": "code",
   "execution_count": null,
   "metadata": {},
   "outputs": [],
   "source": [
    "# 데이터 프레임에서 평균이 80점 이상인 학생만 추출\n",
    "filtered_df = score_df[score_df['AVERAGE'] >= 80]\n",
    "display(filtered_df)"
   ]
  },
  {
   "cell_type": "code",
   "execution_count": null,
   "metadata": {},
   "outputs": [],
   "source": [
    "# read_ 계열의 메서드 : 다양한 데이터를 입력\n",
    "thieves_df = pd.read_csv(\"./data/thieves.txt\", sep=\"\\t\")   # 구분자 : 탭(tab)\n",
    "display(thieves_df)"
   ]
  },
  {
   "cell_type": "code",
   "execution_count": null,
   "metadata": {},
   "outputs": [],
   "source": [
    "# read_csv 메서드는 첫번째 행을 컬럼명으로 활용\n",
    "# 첫번째 행이 컬럼 명이 아닐 경우, 컬럼명에서 배제해줘야 한다.\n",
    "thieves_df2 = pd.read_csv(\"./data/thieves.txt\", sep=\"\\t\", header=None)  # 첫 행이 컬럼명이 아님을 명시\n",
    "display(thieves_df2)"
   ]
  },
  {
   "cell_type": "code",
   "execution_count": null,
   "metadata": {},
   "outputs": [],
   "source": [
    "# 특정 컬럼을 인덱스로 활용하려는 경우\n",
    "thieves_df3 = pd.read_csv(\"./data/thieves.txt\", \n",
    "                          sep=\"\\t\", \n",
    "                          header=None, \n",
    "                          index_col=0)  # 0번 컬럼을 인덱스로 사용\n",
    "display(thieves_df3)"
   ]
  },
  {
   "cell_type": "code",
   "execution_count": null,
   "metadata": {},
   "outputs": [],
   "source": [
    "# 컬럼 명의 확인\n",
    "print(thieves_df3.columns)\n",
    "# 컬럼 명의 변경\n",
    "thieves_df3.columns = [\"Height\", \"Weight\"]\n",
    "# 인덱스의 이름도 바꿔 보자.\n",
    "thieves_df3.index.name = \"Name\"\n",
    "\n",
    "display(thieves_df3)"
   ]
  },
  {
   "cell_type": "code",
   "execution_count": null,
   "metadata": {},
   "outputs": [],
   "source": [
    "# 정제된 데이터의 저장\n",
    "thieves_df3.to_csv(\"./data/thieves.csv\")\n",
    "# 인코딩 문제가 있으면\n",
    "thieves_df3.to_csv(\"./data/thieves.csv\", encoding=\"utf-8\")"
   ]
  },
  {
   "cell_type": "code",
   "execution_count": null,
   "metadata": {},
   "outputs": [],
   "source": [
    "# 결측치 : 측정되지 않았거나 데이터 정제 과정에서 비어버린 값\n",
    "# 결측치 포함된 데이터셋의 통계 함수 결과는 결측치\n",
    "from numpy import nan, NaN, NAN\n",
    "\n",
    "exam_scores = pd.Series([90, 80, 120, nan, 95, 80, -10])\n",
    "print(exam_scores)"
   ]
  },
  {
   "cell_type": "code",
   "execution_count": null,
   "metadata": {},
   "outputs": [],
   "source": [
    "# 결측치의 확인\n",
    "print(pd.isnull(exam_scores))\n",
    "# 결측 빈도의 확인"
   ]
  },
  {
   "cell_type": "code",
   "execution_count": null,
   "metadata": {},
   "outputs": [],
   "source": [
    "# 이상치의 확인\n",
    "print(exam_scores.isin(range(0, 101)))   # in range(0, 101)\n",
    "print(~exam_scores.isin(range(0, 101)))  # not in range(0, 101)\n",
    "                                         # False가 나온 값을 결측치로 바꿔주자.\n",
    "\n",
    "# 이상치를 결측치로 대체\n",
    "exam_scores[~exam_scores.isin(range(0, 101))] = nan\n",
    "print(exam_scores)\n",
    "\n",
    "# 이상치를 결측치로 대체한 데이터셋의 통계\n",
    "print(\"평균\")\n",
    "print(exam_scores.mean())\n",
    "print(\"통계량\")\n",
    "print(exam_scores.describe())"
   ]
  },
  {
   "cell_type": "code",
   "execution_count": null,
   "metadata": {},
   "outputs": [],
   "source": [
    "# 결측치가 많으면 통계 결과에 왜곡\n",
    "# 결측치를 대푯값(중앙값)으로 대체 (결측치를 제외한 대푯값)\n",
    "med_score = exam_scores[exam_scores.notnull()].median()\n",
    "print(\"결측치 제외 중앙값:\", med_score)\n",
    "exam_scores[exam_scores.isnull()] = med_score\n",
    "print(exam_scores)\n",
    "\n",
    "print(\"정제된 데이터의 최종 평균:\", exam_scores.mean())"
   ]
  }
 ],
 "metadata": {
  "kernelspec": {
   "display_name": "Python 3",
   "language": "python",
   "name": "python3"
  },
  "language_info": {
   "codemirror_mode": {
    "name": "ipython",
    "version": 3
   },
   "file_extension": ".py",
   "mimetype": "text/x-python",
   "name": "python",
   "nbconvert_exporter": "python",
   "pygments_lexer": "ipython3",
   "version": "3.7.3"
  }
 },
 "nbformat": 4,
 "nbformat_minor": 4
}
