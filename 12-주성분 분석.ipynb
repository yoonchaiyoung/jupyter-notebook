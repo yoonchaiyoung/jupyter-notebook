{
 "cells": [
  {
   "cell_type": "code",
   "execution_count": null,
   "metadata": {},
   "outputs": [],
   "source": [
    "from sklearn.datasets import load_breast_cancer\n",
    "from sklearn.preprocessing import MinMaxScaler\n",
    "from sklearn.decomposition import PCA\n",
    "\n",
    "# 데이터 불러오기\n",
    "cancer = load_breast_cancer()\n",
    "\n",
    "# scaler\n",
    "scaler = MinMaxScaler()\n",
    "scaler.fit(cancer.data)  # 비지도학습 -> 라벨 없음\n",
    "X_scaled = scaler.transform(cancer.data)\n",
    "\n",
    "# PCA 모델 생성\n",
    "pca = PCA(n_components=2)  # 주성분을 2개를 유지\n",
    "pca.fit(X_scaled)  # 학습\n",
    "\n",
    "X_pca = pca.transform(X_scaled)\n",
    "print(\"원본 데이터의 형태:\", X_scaled.shape)\n",
    "print(\"축소된 데이터의 형태:\", X_pca.shape)"
   ]
  },
  {
   "cell_type": "code",
   "execution_count": null,
   "metadata": {},
   "outputs": [],
   "source": [
    "# 주성분의 시각화\n",
    "import matplotlib.pyplot as plt\n",
    "\n",
    "plt.scatter(X_pca[:, 0],  # 첫 번째 성분\n",
    "            X_pca[:, 1],  # 두 번째 성분\n",
    "            c=cancer.target)  # 색상 구분 기준\n",
    "plt.xlabel(\"First Component\")\n",
    "plt.ylabel(\"Second Component\")\n",
    "plt.show()"
   ]
  },
  {
   "cell_type": "code",
   "execution_count": null,
   "metadata": {},
   "outputs": [],
   "source": [
    "# component 목록 확인\n",
    "print(pca.components_)  # 각각의 2개의 component와 다른 변수(30)들 사이의 관계\n",
    "print(len(pca.components_[0]))"
   ]
  },
  {
   "cell_type": "code",
   "execution_count": null,
   "metadata": {},
   "outputs": [],
   "source": [
    "# 2개의 주 component와 다른 feature들과의 관계\n",
    "plt.matshow(pca.components_,\n",
    "            cmap=\"viridis\")\n",
    "# PCA의 문제점 : 2개의 주성분이 각각 무슨 역할을 하는 지 알기 어렵다.\n",
    "# 해당 컴포넌트와 다른 컴포넌트 사이의 관계를 시각화 그림을 보고 쉽게 알 수 없다.\n",
    "plt.yticks([0, 1], [\"first component\", \"second component\"])\n",
    "plt.colorbar()\n",
    "plt.xticks(range(len(cancer.feature_names)),\n",
    "          cancer.feature_names, rotation=60)\n",
    "plt.xlabel(\"Features\")\n",
    "plt.ylabel(\"Principal Components\")\n",
    "plt.show()\n",
    "\n",
    "# PCA 알고리즘은 변수의 갯수를 줄여서 연산량을 줄이는 효과가 있다."
   ]
  }
 ],
 "metadata": {
  "kernelspec": {
   "display_name": "Python 3",
   "language": "python",
   "name": "python3"
  },
  "language_info": {
   "codemirror_mode": {
    "name": "ipython",
    "version": 3
   },
   "file_extension": ".py",
   "mimetype": "text/x-python",
   "name": "python",
   "nbconvert_exporter": "python",
   "pygments_lexer": "ipython3",
   "version": "3.7.3"
  }
 },
 "nbformat": 4,
 "nbformat_minor": 4
}
