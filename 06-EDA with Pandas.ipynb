{
 "cells": [
  {
   "cell_type": "code",
   "execution_count": null,
   "metadata": {},
   "outputs": [],
   "source": [
    "import pandas as pd\n",
    "df = pd.read_csv(\"./data/gapminder.tsv\", sep=\"\\t\")  # 구분자\n",
    "df  # 1704개의 관측치, 6개의 변수"
   ]
  },
  {
   "cell_type": "code",
   "execution_count": null,
   "metadata": {},
   "outputs": [],
   "source": [
    "# 데이터의 생김새 확인\n",
    "print(\"HEAD\")        # 기본 5개\n",
    "display(df.head())\n",
    "\n",
    "print(\"HEAD 3개\")\n",
    "display(df.head(3))"
   ]
  },
  {
   "cell_type": "code",
   "execution_count": null,
   "metadata": {},
   "outputs": [],
   "source": [
    "# 뒤쪽 데이터를 확인\n",
    "print(\"TAIL\")        # 기본 5개\n",
    "display(df.tail())"
   ]
  },
  {
   "cell_type": "code",
   "execution_count": null,
   "metadata": {},
   "outputs": [],
   "source": [
    "# 데이터 프레임의 크기 확인\n",
    "print(df.shape)\n",
    "print(\"데이터 프레임은 {}행 {}열입니다.\".format(df.shape[0], df.shape[1]))"
   ]
  },
  {
   "cell_type": "code",
   "execution_count": null,
   "metadata": {},
   "outputs": [],
   "source": [
    "# 데이터 프레임의 변수 목록 확인\n",
    "print(df.columns)"
   ]
  },
  {
   "cell_type": "code",
   "execution_count": null,
   "metadata": {},
   "outputs": [],
   "source": [
    "# 각 변수의 데이터 타입 확인\n",
    "# 한 변수는 같은 데이터 타입\n",
    "print(df.dtypes)"
   ]
  },
  {
   "cell_type": "code",
   "execution_count": null,
   "metadata": {},
   "outputs": [],
   "source": [
    "# 데이터 프레임의 전반적 정보 확인\n",
    "display(df.info())\n",
    "# 1704개의 관측치, index : 0~1703\n",
    "# 변수명 non-null data type"
   ]
  },
  {
   "cell_type": "code",
   "execution_count": null,
   "metadata": {},
   "outputs": [],
   "source": [
    "# 단일 컬럼(변수) 데이터 확인\n",
    "# []\n",
    "countries = df['country']\n",
    "display(countries)\n",
    "print(type(countries))    # 출력값 : <class 'pandas.core.series.Series'>\n",
    "                          # Series -> 1차원 단일 형식의 벡터"
   ]
  },
  {
   "cell_type": "code",
   "execution_count": null,
   "metadata": {},
   "outputs": [],
   "source": [
    "# 복수 개의 컬럼 추출\n",
    "# [[컬럼의 리스트]]\n",
    "subset = df[[\"country\", \"year\", \"lifeExp\"]]\n",
    "display(subset)\n",
    "print(type(subset))    # 출력값 : <class 'pandas.core.frame.DataFrame'>\n",
    "                       # DataFrame -> 2차원 데이터(여러개의 Series의 조합)"
   ]
  },
  {
   "cell_type": "code",
   "execution_count": null,
   "metadata": {},
   "outputs": [],
   "source": [
    "# 특정 행(관측치)의 출력\n",
    "# loc -> 관측치 행의 인덱스로 접근\n",
    "print(\"loc[3])\")\n",
    "display(df.loc[3])\n",
    "\n",
    "# iloc -> 관측치의 실제 위치로 접근\n",
    "print(\"iloc[3]\")\n",
    "display(df.iloc[3])"
   ]
  },
  {
   "cell_type": "code",
   "execution_count": null,
   "metadata": {},
   "outputs": [],
   "source": [
    "# 복수 개의 행의 출력\n",
    "# 행의 리스트를 전달\n",
    "display(df.loc[[10, 100, 1000]])"
   ]
  },
  {
   "cell_type": "code",
   "execution_count": null,
   "metadata": {},
   "outputs": [],
   "source": [
    "# 슬라이싱을 이용한 데이터의 추출\n",
    "# df.loc[행의 범위, 열의 목록]\n",
    "subset2 = df.loc[:, ['year', 'lifeExp']]   # 전체 행 / year, lifeExp 컬럼 정보\n",
    "display(subset2)"
   ]
  },
  {
   "cell_type": "code",
   "execution_count": null,
   "metadata": {},
   "outputs": [],
   "source": [
    "# iloc -> 컬럼 목록 숫자 부여, 역인덱스 가능\n",
    "subset3 = df.iloc[:, [2, 4, -1]]  # 전체 행 / 2번, 4번, 마지막 열의 정보 추출\n",
    "display(subset3)"
   ]
  },
  {
   "cell_type": "code",
   "execution_count": null,
   "metadata": {},
   "outputs": [],
   "source": [
    "# range 범위 함수를 이용 가능\n",
    "subset4 = df.iloc[:, range(4)]  # 전체 행 / 0~3번 컬럼을 표시\n",
    "display(subset4)"
   ]
  },
  {
   "cell_type": "code",
   "execution_count": null,
   "metadata": {},
   "outputs": [],
   "source": [
    "# 통계치 추출을 위해 year 컬럼을 기준으로 그룹핑\n",
    "grouped_year_df = df.groupby(\"year\")\n",
    "print(grouped_year_df)  # 출력값 : <pandas.core.groupby.generic.DataFrameGroupBy object at 0x000001E11B4CEBA8>\n",
    "                        # DataFrameGroupBy\n",
    "print(grouped_year_df.head())"
   ]
  },
  {
   "cell_type": "code",
   "execution_count": null,
   "metadata": {},
   "outputs": [],
   "source": [
    "# 년도별 group된 데이터 프레임의 lifeExp 평균치를 구해보자.\n",
    "display(grouped_year_df['lifeExp'].mean())"
   ]
  },
  {
   "cell_type": "code",
   "execution_count": null,
   "metadata": {},
   "outputs": [],
   "source": [
    "# 데이터 프레임에서 활용 가능한 기초 통계량들\n",
    "display(grouped_year_df.describe())"
   ]
  },
  {
   "cell_type": "code",
   "execution_count": null,
   "metadata": {},
   "outputs": [],
   "source": [
    "# 연도별 group 된 데이터 프레임에서 lifeExp, gdpPercap의 평균값 구하기\n",
    "display(grouped_year_df[['lifeExp', 'gdpPercap']].mean())"
   ]
  },
  {
   "cell_type": "code",
   "execution_count": null,
   "metadata": {},
   "outputs": [],
   "source": [
    "# 대륙을 기준으로 그룹화된 데이터셋에서 국가(country)의 데이터 갯수(빈도) 구하기\n",
    "display(df.groupby(\"continent\")['country'].nunique())"
   ]
  },
  {
   "cell_type": "code",
   "execution_count": null,
   "metadata": {},
   "outputs": [],
   "source": [
    "# 시각화를 이용한 데이터의 이해\n",
    "# 연도별 세계의 기대 수명 평균치를 그래프로 그려보자.\n",
    "life_exp = df.groupby('year')['lifeExp'].mean()\n",
    "display(life_exp)\n",
    "life_exp.plot()"
   ]
  }
 ],
 "metadata": {
  "kernelspec": {
   "display_name": "Python 3",
   "language": "python",
   "name": "python3"
  },
  "language_info": {
   "codemirror_mode": {
    "name": "ipython",
    "version": 3
   },
   "file_extension": ".py",
   "mimetype": "text/x-python",
   "name": "python",
   "nbconvert_exporter": "python",
   "pygments_lexer": "ipython3",
   "version": "3.7.3"
  }
 },
 "nbformat": 4,
 "nbformat_minor": 4
}
