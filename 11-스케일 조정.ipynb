{
 "cells": [
  {
   "cell_type": "code",
   "execution_count": null,
   "metadata": {},
   "outputs": [],
   "source": [
    "# 다변량 데이터의 경우\n",
    "# 모든 특성들의 데이터 스케일을 맞춰줘야 한다.\n",
    "\n",
    "# cancer 데이터 -> MinMaxScaler\n",
    "\n",
    "# 데이터 불러오기\n",
    "from sklearn.datasets import load_breast_cancer\n",
    "from sklearn.model_selection import train_test_split\n",
    "\n",
    "cancer = load_breast_cancer()  # 데이터셋 로드\n",
    "X_train, X_test, y_train, y_test = train_test_split(\n",
    "    cancer.data, cancer.target, random_state=1\n",
    ")\n",
    "\n",
    "# shape\n",
    "print(X_train.shape, X_test.shape)  # train data : 426개, test data : 143개, 변수 : 30개"
   ]
  },
  {
   "cell_type": "code",
   "execution_count": null,
   "metadata": {},
   "outputs": [],
   "source": [
    "# Scaler의 적용\n",
    "from sklearn.preprocessing import MinMaxScaler\n",
    "scaler = MinMaxScaler()  # 전체 데이터 -> 0(최솟값)~1(최댓값) 사이의 데이터로 변환\n",
    "scaler.fit(X_train)  # 비지도 학습 -> target 제공 X. (정답 알려주지 않음.)\n",
    "X_train_scaled = scaler.transform(X_train)  # scale 변환\n",
    "X_train_scaled"
   ]
  },
  {
   "cell_type": "code",
   "execution_count": null,
   "metadata": {},
   "outputs": [],
   "source": [
    "# X_train, X_train_scaled 데이터가 어떻게 다른지 비교해보자.\n",
    "\n",
    "# 데이터 시각화\n",
    "import matplotlib.pyplot as plt\n",
    "\n",
    "# 변수가 30개나 있으니까 0,1번 컬럼을 이용해서 시각화해보자.\n",
    "# (원본 데이터)\n",
    "plt.subplot(121)  # 1*2 subplot 중, 1번째 영역 \n",
    "# x축 : 0번 feature\n",
    "# y축 : 1번 feature\n",
    "# 색상 구분 기준: y_train\n",
    "plt.scatter(X_train[:, 0],\n",
    "           X_train[:, 1],\n",
    "           c=y_train)\n",
    "plt.title(\"Before Scale\")\n",
    "\n",
    "# (조정된 데이터)\n",
    "plt.subplot(122)  # 1*2 subplot 중, 2번째 영역 \n",
    "# x축 : 0번 feature\n",
    "# y축 : 1번 feature\n",
    "# 색상 구분 기준: y_train\n",
    "plt.scatter(X_train_scaled[:, 0],\n",
    "           X_train_scaled[:, 1],\n",
    "           c=y_train)\n",
    "plt.title(\"After Scale\")\n",
    "plt.show()\n",
    "\n",
    "# scale되기 전, 후 그림 똑같이 생김\n",
    "# scale된 후, 최댓값 : 1, 최솟값 : 0으로 조정된 것 확인"
   ]
  },
  {
   "cell_type": "code",
   "execution_count": null,
   "metadata": {},
   "outputs": [],
   "source": [
    "# 모든 feature의 스케일을 시각화\n",
    "# (원본 데이터)\n",
    "plt.subplot(211)  # 2*1의 첫번재 영역(원본)\n",
    "plt.boxplot(X_train)\n",
    "plt.title(\"Before Scale\")\n",
    "\n",
    "# (조정된 데이터)\n",
    "plt.subplot(212)  # 2*1의 두번째 영역\n",
    "plt.boxplot(X_train_scaled)\n",
    "plt.title(\"After Scale\")\n",
    "plt.show()\n",
    "\n",
    "# (원본 데이터)\n",
    "# 4, 24번의 feature의 boxplt이 극단적인 값들을 가지고, scale이 다른 feature에 비해 많이 크다.\n",
    "# (조정된 데이터)\n",
    "# scale 작업을 거쳤더니 모든 feature에 대해 0~1 사이의 값을 가지게 조정된 것을 확인"
   ]
  },
  {
   "cell_type": "code",
   "execution_count": null,
   "metadata": {},
   "outputs": [],
   "source": [
    "# 원본 데이터를 활용한 SVC 분류\n",
    "from sklearn.svm import SVC\n",
    "\n",
    "svm = SVC(C=100)  # 모델 생성\n",
    "svm.fit(X_train, y_train)\n",
    "print(\"테스트 세트 정확도:\", svm.score(X_test, y_test))"
   ]
  },
  {
   "cell_type": "code",
   "execution_count": null,
   "metadata": {},
   "outputs": [],
   "source": [
    "# 스케일 조정된 데이터를 활용한 SVC 분류\n",
    "X_test_scaled = scaler.transform(X_test)\n",
    "svm.fit(X_train_scaled, y_train)\n",
    "print(\"조정된 테스트 세트의 정확도:\", svm.score(X_test_scaled, y_test))\n",
    "# 중요! : 학습 데이터와 테스트 데이터에 같은 scale을 적용해 주어야 한다."
   ]
  }
 ],
 "metadata": {
  "kernelspec": {
   "display_name": "Python 3",
   "language": "python",
   "name": "python3"
  },
  "language_info": {
   "codemirror_mode": {
    "name": "ipython",
    "version": 3
   },
   "file_extension": ".py",
   "mimetype": "text/x-python",
   "name": "python",
   "nbconvert_exporter": "python",
   "pygments_lexer": "ipython3",
   "version": "3.7.3"
  }
 },
 "nbformat": 4,
 "nbformat_minor": 4
}
